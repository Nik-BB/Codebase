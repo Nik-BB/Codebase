{
 "cells": [
  {
   "cell_type": "code",
   "execution_count": 2,
   "id": "546412a1-ffec-4179-87fe-88689c050515",
   "metadata": {},
   "outputs": [
    {
     "name": "stdout",
     "output_type": "stream",
     "text": [
      "Init Plugin\n",
      "Init Graph Optimizer\n",
      "Init Kernel\n"
     ]
    }
   ],
   "source": [
    "import numpy as np\n",
    "import pandas as pd\n",
    "import matplotlib.pyplot as plt\n",
    "import tensorflow as tf\n",
    "import sklearn"
   ]
  },
  {
   "cell_type": "code",
   "execution_count": 3,
   "id": "12436d30-dd79-481c-a5b8-1a026a890d42",
   "metadata": {},
   "outputs": [],
   "source": [
    "def create_all_drugs(x, y, cells):\n",
    "    '''Create data for all drug and cell line pairs.\n",
    "    \n",
    "    With cell line data (x) that is not drug spesfic (i.e. the same for \n",
    "    all drugs) copies this data for each drug while removing missing values \n",
    "    that are contained in y as nan.\n",
    "    The indexes in dataframes created indexs agree with each other. \n",
    "    E.g. the zeorth index of the dataframes corrisponds to the \n",
    "    drug cell line pair given by x.iloc[0], y.iloc[0].\n",
    "    \n",
    "    Inputs\n",
    "    -------\n",
    "    x: pd dataframe.\n",
    "    Omic data (i.e. phospo) where the index is the cell lines\n",
    "    and cols are features.\n",
    "    \n",
    "    y: pd datafame.\n",
    "    Target values (i.e. ic50 values) where the index is \n",
    "    the cell lines and cols are the drugs. \n",
    "    \n",
    "    cells: list type.\n",
    "    The cell lines for which the final dataframe should be created for.\n",
    "    Typically this will be the traning cell lines as testing can be done per \n",
    "    drug. It can also be all cells if the test train split has not been done.\n",
    "    \n",
    "    Returns\n",
    "    -------\n",
    "    x_final: pd dataframe.\n",
    "    Omics data for all drugs and cell lines\n",
    "    \n",
    "    X_drug_final: pd dataframe.\n",
    "    One hot enocding for all drugs and cell lines\n",
    "    \n",
    "    y_final: pd dataframe.\n",
    "    Target values for all drugs and cell lines\n",
    "\n",
    "    '''\n",
    "    drug_inds = []\n",
    "    x_dfs = []\n",
    "    x_drug_dfs = []\n",
    "    y_final = []\n",
    "    \n",
    "    #only consdier cell lines that are required. \n",
    "    y = y.loc[cells]\n",
    "    x = x.loc[cells]\n",
    "    x.astype(np.float16)\n",
    "    for i, d in enumerate(y.columns):\n",
    "        #find cell lines without missing truth values\n",
    "        y_temp = y[d]\n",
    "        nona_cells = y_temp.index[~np.isnan(y_temp)]\n",
    "        #finds the index for the start / end of each drug\n",
    "        ind_high = len(nona_cells) + i\n",
    "        drug_inds.append((d, i, ind_high))\n",
    "        i += len(nona_cells)\n",
    "\n",
    "        #store vals of the cell lines with truth values\n",
    "        x_pp = x.loc[nona_cells] \n",
    "        x_dfs.append(x_pp)\n",
    "        X_drug = pd.DataFrame([one_hot_durgs[d]] * len(x_pp))\n",
    "        x_drug_dfs.append(X_drug)\n",
    "        y_final.append(y_temp.dropna())\n",
    "\n",
    "    #combine values for all drugs  \n",
    "    x_final = pd.concat(x_dfs, axis=0)\n",
    "    X_drug_final = pd.concat(x_drug_dfs, axis=0)\n",
    "    y_final = pd.concat(y_final, axis=0)\n",
    "    \n",
    "    return x_final, X_drug_final, y_final"
   ]
  },
  {
   "cell_type": "code",
   "execution_count": null,
   "id": "663e8627-e7a8-4a5f-933d-94051d2d5d50",
   "metadata": {},
   "outputs": [],
   "source": []
  }
 ],
 "metadata": {
  "kernelspec": {
   "display_name": "tfGPU",
   "language": "python",
   "name": "tensorflow"
  },
  "language_info": {
   "codemirror_mode": {
    "name": "ipython",
    "version": 3
   },
   "file_extension": ".py",
   "mimetype": "text/x-python",
   "name": "python",
   "nbconvert_exporter": "python",
   "pygments_lexer": "ipython3",
   "version": "3.9.7"
  }
 },
 "nbformat": 4,
 "nbformat_minor": 5
}
