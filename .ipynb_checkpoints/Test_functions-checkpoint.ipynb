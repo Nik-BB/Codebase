{
 "cells": [
  {
   "cell_type": "code",
   "execution_count": 113,
   "id": "546412a1-ffec-4179-87fe-88689c050515",
   "metadata": {},
   "outputs": [],
   "source": [
    "import numpy as np\n",
    "import pandas as pd\n",
    "import matplotlib.pyplot as plt\n",
    "import tensorflow as tf\n",
    "import sklearn\n",
    "from importlib import reload\n",
    "from sklearn.preprocessing import StandardScaler\n",
    "from sklearn.model_selection import train_test_split\n",
    "from tensorflow.keras import layers"
   ]
  },
  {
   "cell_type": "code",
   "execution_count": 142,
   "id": "9e98d18f-4064-4f3b-8efa-c9b900320591",
   "metadata": {},
   "outputs": [
    {
     "data": {
      "text/plain": [
       "<module 'DRP_utils.model_selection' from '/Users/nik/Documents/OneDrive - Queen Mary, University of London/PhD_work/Year1/Codebase/Codebase/DRP_utils/model_selection.py'>"
      ]
     },
     "execution_count": 142,
     "metadata": {},
     "output_type": "execute_result"
    }
   ],
   "source": [
    "from DRP_utils import data_preprocessing as dp_nb\n",
    "reload(dp_nb)\n",
    "from DRP_utils import model_selection as ms_nb\n",
    "reload(ms_nb)"
   ]
  },
  {
   "cell_type": "markdown",
   "id": "79845ccb-c915-4ba9-ac73-f001fd9925b2",
   "metadata": {
    "tags": []
   },
   "source": [
    "# Data reading and preprocessing"
   ]
  },
  {
   "cell_type": "code",
   "execution_count": 88,
   "id": "9bef7acc-babe-4367-a5f2-db705ea34e08",
   "metadata": {
    "tags": []
   },
   "outputs": [],
   "source": [
    "#read and format target values\n",
    "\n",
    "df_ic50 = pd.read_csv('downloaded_data_small/GDSC1_ic50.csv')\n",
    "frame = {}\n",
    "for d in np.unique(df_ic50['CELL_LINE_NAME']):\n",
    "    cellDf = df_ic50[df_ic50['CELL_LINE_NAME'] == d]\n",
    "    cellDf.index = cellDf['DRUG_NAME']\n",
    "    frame[d] = cellDf['LN_IC50']\n",
    "    \n",
    "    \n",
    "def remove_repeats_mean_gdsc1(frame, df_ic50): \n",
    "    new_frame = {}\n",
    "    for cell_line in np.unique(df_ic50['CELL_LINE_NAME']):\n",
    "        temp_subset = frame[cell_line].groupby(frame[cell_line].index).mean()\n",
    "        new_frame[cell_line] = temp_subset\n",
    "    return new_frame  \n",
    "\n",
    "new_frame = remove_repeats_mean_gdsc1(frame, df_ic50)\n",
    "ic50_df1 = pd.DataFrame(new_frame).T\n",
    "\n",
    "_all_drugs = ic50_df1.columns"
   ]
  },
  {
   "cell_type": "code",
   "execution_count": 38,
   "id": "663e8627-e7a8-4a5f-933d-94051d2d5d50",
   "metadata": {
    "tags": []
   },
   "outputs": [],
   "source": [
    "#read and format phos data\n",
    "\n",
    "phos_raw = pd.read_csv('downloaded_data_small/suppData2ppIndexPhospo.csv')\n",
    "#makes index features \n",
    "phos_raw.index = phos_raw['col.name']\n",
    "phos_raw.drop(columns='col.name', inplace=True)\n",
    "#formats cell lines in the same way as in target value df. \n",
    "phos_raw.columns = [c.replace('.', '-') for c in phos_raw.columns]\n",
    "phos_raw = phos_raw.T"
   ]
  },
  {
   "cell_type": "code",
   "execution_count": 94,
   "id": "20e0e70a-ec22-43d1-ae0c-741bfac96b05",
   "metadata": {
    "tags": []
   },
   "outputs": [
    {
     "data": {
      "text/plain": [
       "((42, 22804), (42, 345))"
      ]
     },
     "execution_count": 94,
     "metadata": {},
     "output_type": "execute_result"
    }
   ],
   "source": [
    "phos_raw, ic50_df1 = dp_nb.keep_overlapping(phos_raw, ic50_df1)\n",
    "_all_cells = phos_raw.index\n",
    "phos_raw.shape, ic50_df1.shape"
   ]
  },
  {
   "cell_type": "code",
   "execution_count": 96,
   "id": "9656c543-fbdf-4b80-8827-77693839aa26",
   "metadata": {},
   "outputs": [],
   "source": [
    "#log transfrom\n",
    "phospho_log = np.log2(phos_raw).replace(-np.inf, 0)\n",
    "#norm by cell line standard scale \n",
    "scale = StandardScaler()\n",
    "phospho_ls = pd.DataFrame(scale.fit_transform(phospho_log.T),\n",
    "                       columns = phospho_log.index,\n",
    "                       index = phospho_log.columns).T\n",
    "#drug one hot encoding\n",
    "frame = {}\n",
    "for i,d in enumerate(_all_drugs):\n",
    "    hot_vec = np.zeros(len(_all_drugs))\n",
    "    hot_vec[i] = 1\n",
    "    frame[d] = hot_vec\n",
    "one_hot_drugs = pd.DataFrame(frame)"
   ]
  },
  {
   "cell_type": "code",
   "execution_count": 107,
   "id": "c45462b8-3567-4550-a85d-e29f8b3577f6",
   "metadata": {},
   "outputs": [
    {
     "data": {
      "text/plain": [
       "((12903, 22804), (12903, 345), 12903)"
      ]
     },
     "execution_count": 107,
     "metadata": {},
     "output_type": "execute_result"
    }
   ],
   "source": [
    "x_all, x_drug, y_list = dp_nb.create_all_drugs(phospho_ls, one_hot_drugs, ic50_df1, _all_cells)\n",
    "all_cls_drugs = x_all.index + '.' + x_drug.index \n",
    "x_all.shape, x_drug.shape, len(y_list)"
   ]
  },
  {
   "cell_type": "code",
   "execution_count": 104,
   "id": "ac167219-4ed0-41bf-926e-cddde650ee75",
   "metadata": {},
   "outputs": [],
   "source": [
    "#test train split\n",
    "train_inds, test_inds = train_test_split(range(len(y_list)),test_size=0.8,\n",
    "                                         random_state=42)\n",
    "x_train, x_test = x_all.iloc[train_inds], x_all.iloc[test_inds]\n",
    "y_train, y_test = y_list[train_inds], y_list[test_inds]\n",
    "xdrug_train, xdrug_test = x_drug.iloc[train_inds], x_drug.iloc[test_inds]"
   ]
  },
  {
   "cell_type": "code",
   "execution_count": 105,
   "id": "39c027d9-8599-4b2a-8323-ae40d366c589",
   "metadata": {},
   "outputs": [
    {
     "name": "stdout",
     "output_type": "stream",
     "text": [
      "(2580, 22804) (2580, 345) 2580\n"
     ]
    },
    {
     "data": {
      "text/plain": [
       "((10323, 22804), (10323, 345), 10323)"
      ]
     },
     "execution_count": 105,
     "metadata": {},
     "output_type": "execute_result"
    }
   ],
   "source": [
    "print(x_train.shape, xdrug_train.shape, len(y_train))\n",
    "x_test.shape, xdrug_test.shape, len(y_test)"
   ]
  },
  {
   "cell_type": "markdown",
   "id": "7e8f64b7-e0a6-4b44-a257-537aaa611ae2",
   "metadata": {
    "tags": []
   },
   "source": [
    "# Model bulding"
   ]
  },
  {
   "cell_type": "code",
   "execution_count": 134,
   "id": "68a14235-9294-4cf4-8978-44a400dc8ef6",
   "metadata": {},
   "outputs": [],
   "source": [
    "hp1, *_ = [1, 2, 3]"
   ]
  },
  {
   "cell_type": "code",
   "execution_count": 136,
   "id": "f7f9dd24-7a37-4b16-9473-951275f2e13a",
   "metadata": {},
   "outputs": [],
   "source": [
    "def build_test_dnn(hps):\n",
    "    num_uni, *_ = hps\n",
    "    phos_input = layers.Input(shape=x_train.shape[1])\n",
    "    x = layers.Dense(num_uni, activation='relu')(phos_input)\n",
    "    drug_input = layers.Input(shape = (x_drug.shape[1]))\n",
    "    concatenated = layers.concatenate([x, drug_input])\n",
    "    hidd = layers.Dense(num_uni // 2, activation='relu')(concatenated)\n",
    "    output_tensor = layers.Dense(1)(hidd)\n",
    "    model = tf.keras.models.Model([phos_input,drug_input], output_tensor)\n",
    "    model.compile(\n",
    "        optimizer='rmsprop',\n",
    "        loss=tf.keras.metrics.mean_squared_error,\n",
    "        metrics=['mae'])\n",
    "    return model"
   ]
  },
  {
   "cell_type": "code",
   "execution_count": 119,
   "id": "512d10b6-ea04-4e1a-aa5f-46b5d0290899",
   "metadata": {},
   "outputs": [
    {
     "name": "stdout",
     "output_type": "stream",
     "text": [
      "Model: \"model\"\n",
      "__________________________________________________________________________________________________\n",
      "Layer (type)                    Output Shape         Param #     Connected to                     \n",
      "==================================================================================================\n",
      "input_6 (InputLayer)            [(None, 22804)]      0                                            \n",
      "__________________________________________________________________________________________________\n",
      "dense_6 (Dense)                 (None, 5)            114025      input_6[0][0]                    \n",
      "__________________________________________________________________________________________________\n",
      "input_7 (InputLayer)            [(None, 345)]        0                                            \n",
      "__________________________________________________________________________________________________\n",
      "concatenate_2 (Concatenate)     (None, 350)          0           dense_6[0][0]                    \n",
      "                                                                 input_7[0][0]                    \n",
      "__________________________________________________________________________________________________\n",
      "dense_7 (Dense)                 (None, 2)            702         concatenate_2[0][0]              \n",
      "__________________________________________________________________________________________________\n",
      "dense_8 (Dense)                 (None, 1)            3           dense_7[0][0]                    \n",
      "==================================================================================================\n",
      "Total params: 114,730\n",
      "Trainable params: 114,730\n",
      "Non-trainable params: 0\n",
      "__________________________________________________________________________________________________\n"
     ]
    }
   ],
   "source": [
    "build_test_dnn(5).summary()"
   ]
  },
  {
   "cell_type": "markdown",
   "id": "f83cc00d-9c18-400c-890e-eb79b9df86da",
   "metadata": {},
   "source": [
    "# Model seleciton"
   ]
  },
  {
   "cell_type": "code",
   "execution_count": 133,
   "id": "7be3e059-991f-450f-baa2-9a617e8db7d7",
   "metadata": {},
   "outputs": [
    {
     "name": "stdout",
     "output_type": "stream",
     "text": [
      "0.0\n"
     ]
    },
    {
     "name": "stderr",
     "output_type": "stream",
     "text": [
      "2022-07-20 16:10:46.655465: I tensorflow/core/grappler/optimizers/custom_graph_optimizer_registry.cc:112] Plugin optimizer for device_type GPU is enabled.\n",
      "2022-07-20 16:10:54.391360: I tensorflow/core/grappler/optimizers/custom_graph_optimizer_registry.cc:112] Plugin optimizer for device_type GPU is enabled.\n"
     ]
    },
    {
     "name": "stdout",
     "output_type": "stream",
     "text": [
      "0.3333333333333333\n"
     ]
    },
    {
     "name": "stderr",
     "output_type": "stream",
     "text": [
      "2022-07-20 16:12:17.808736: I tensorflow/core/grappler/optimizers/custom_graph_optimizer_registry.cc:112] Plugin optimizer for device_type GPU is enabled.\n",
      "2022-07-20 16:12:25.443438: I tensorflow/core/grappler/optimizers/custom_graph_optimizer_registry.cc:112] Plugin optimizer for device_type GPU is enabled.\n"
     ]
    },
    {
     "name": "stdout",
     "output_type": "stream",
     "text": [
      "0.6666666666666666\n"
     ]
    },
    {
     "name": "stderr",
     "output_type": "stream",
     "text": [
      "2022-07-20 16:13:48.250045: I tensorflow/core/grappler/optimizers/custom_graph_optimizer_registry.cc:112] Plugin optimizer for device_type GPU is enabled.\n",
      "2022-07-20 16:13:55.858173: I tensorflow/core/grappler/optimizers/custom_graph_optimizer_registry.cc:112] Plugin optimizer for device_type GPU is enabled.\n"
     ]
    }
   ],
   "source": [
    "loss, val_loss, *_ = ms_nb.run_cv(build_test_dnn, \n",
    "                                  [x_train, x_drug],\n",
    "                                  y_train,\n",
    "                                  [5],\n",
    "                                  batch_size=1,\n",
    "                                  k=3)"
   ]
  },
  {
   "cell_type": "code",
   "execution_count": 144,
   "id": "b7560507-ad77-420b-becd-d59584332a4d",
   "metadata": {},
   "outputs": [
    {
     "name": "stdout",
     "output_type": "stream",
     "text": [
      "(6.956934134165446, 0.266, 4)\n"
     ]
    },
    {
     "data": {
      "image/png": "[encoded data removed]",
      "text/plain": [
       "<Figure size 432x288 with 1 Axes>"
      ]
     },
     "metadata": {
      "needs_background": "light"
     },
     "output_type": "display_data"
    }
   ],
   "source": [
    "ms_nb.plot_cv(loss, val_loss, epochs=10)"
   ]
  },
  {
   "cell_type": "code",
   "execution_count": null,
   "id": "318b82b1-ac16-41fc-97fb-5abd4c487e82",
   "metadata": {},
   "outputs": [],
   "source": []
  }
 ],
 "metadata": {
  "kernelspec": {
   "display_name": "tfGPU",
   "language": "python",
   "name": "tensorflow"
  },
  "language_info": {
   "codemirror_mode": {
    "name": "ipython",
    "version": 3
   },
   "file_extension": ".py",
   "mimetype": "text/x-python",
   "name": "python",
   "nbconvert_exporter": "python",
   "pygments_lexer": "ipython3",
   "version": "3.9.7"
  }
 },
 "nbformat": 4,
 "nbformat_minor": 5
}
