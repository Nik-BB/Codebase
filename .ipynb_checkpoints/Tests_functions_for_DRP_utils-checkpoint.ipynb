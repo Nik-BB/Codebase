{
 "cells": [
  {
   "cell_type": "markdown",
   "metadata": {},
   "source": [
    "# Notebook to test and demo the reuseable functions in the codebase\n",
    "added tested comments"
   ]
  },
  {
   "cell_type": "code",
   "execution_count": null,
   "metadata": {},
   "outputs": [],
   "source": [
    "import numpy as np\n",
    "import pandas as pd\n",
    "import matplotlib.pyplot as plt\n",
    "import tensorflow as tf\n",
    "import sklearn\n",
    "from importlib import reload\n",
    "from sklearn.preprocessing import StandardScaler\n",
    "from sklearn.model_selection import train_test_split\n",
    "from tensorflow.keras import layers\n",
    "from sklearn.metrics import r2_score"
   ]
  },
  {
   "cell_type": "code",
   "execution_count": null,
   "metadata": {},
   "outputs": [],
   "source": [
    "from DRP_utils import data_preprocessing as dp_nb\n",
    "reload(dp_nb)\n",
    "from DRP_utils import model_selection as ms_nb\n",
    "reload(ms_nb)\n",
    "from DRP_utils import testing as t_nb"
   ]
  },
  {
   "cell_type": "markdown",
   "metadata": {
    "tags": []
   },
   "source": [
    "# Data reading and preprocessing\n",
    "\n",
    "Uses and tests functions from my data_preprocessing module "
   ]
  },
  {
   "cell_type": "code",
   "execution_count": null,
   "metadata": {
    "tags": []
   },
   "outputs": [],
   "source": [
    "#read and format target values\n",
    "\n",
    "df_ic50 = pd.read_csv('downloaded_data_small/GDSC1_ic50.csv')\n",
    "frame = {}\n",
    "for d in np.unique(df_ic50['CELL_LINE_NAME']):\n",
    "    cellDf = df_ic50[df_ic50['CELL_LINE_NAME'] == d]\n",
    "    cellDf.index = cellDf['DRUG_NAME']\n",
    "    frame[d] = cellDf['LN_IC50']\n",
    "    \n",
    "    \n",
    "def remove_repeats_mean_gdsc1(frame, df_ic50): \n",
    "    new_frame = {}\n",
    "    for cell_line in np.unique(df_ic50['CELL_LINE_NAME']):\n",
    "        temp_subset = frame[cell_line].groupby(frame[cell_line].index).mean()\n",
    "        new_frame[cell_line] = temp_subset\n",
    "    return new_frame  \n",
    "\n",
    "new_frame = remove_repeats_mean_gdsc1(frame, df_ic50)\n",
    "ic50_df1 = pd.DataFrame(new_frame).T\n",
    "\n",
    "_all_drugs = ic50_df1.columns"
   ]
  },
  {
   "cell_type": "code",
   "execution_count": null,
   "metadata": {
    "tags": []
   },
   "outputs": [],
   "source": [
    "#read and format phos data\n",
    "\n",
    "phos_raw = pd.read_csv('downloaded_data_small/suppData2ppIndexPhospo.csv')\n",
    "#makes index features \n",
    "phos_raw.index = phos_raw['col.name']\n",
    "phos_raw.drop(columns='col.name', inplace=True)\n",
    "#formats cell lines in the same way as in target value df. \n",
    "phos_raw.columns = [c.replace('.', '-') for c in phos_raw.columns]\n",
    "phos_raw = phos_raw.T"
   ]
  },
  {
   "cell_type": "code",
   "execution_count": null,
   "metadata": {
    "tags": []
   },
   "outputs": [],
   "source": [
    "phos_raw, ic50_df1 = dp_nb.keep_overlapping(phos_raw, ic50_df1)\n",
    "_all_cells = phos_raw.index\n",
    "phos_raw.shape, ic50_df1.shape"
   ]
  },
  {
   "cell_type": "code",
   "execution_count": null,
   "metadata": {},
   "outputs": [],
   "source": [
    "#log transfrom\n",
    "phospho_log = np.log2(phos_raw).replace(-np.inf, 0)\n",
    "#norm by cell line standard scale \n",
    "scale = StandardScaler()\n",
    "phospho_ls = pd.DataFrame(scale.fit_transform(phospho_log.T),\n",
    "                       columns = phospho_log.index,\n",
    "                       index = phospho_log.columns).T\n",
    "#drug one hot encoding\n",
    "frame = {}\n",
    "for i,d in enumerate(_all_drugs):\n",
    "    hot_vec = np.zeros(len(_all_drugs))\n",
    "    hot_vec[i] = 1\n",
    "    frame[d] = hot_vec\n",
    "one_hot_drugs = pd.DataFrame(frame)"
   ]
  },
  {
   "cell_type": "code",
   "execution_count": null,
   "metadata": {},
   "outputs": [],
   "source": [
    "x_all, x_drug, y_list = dp_nb.create_all_drugs(phospho_ls, one_hot_drugs, ic50_df1, _all_cells)\n",
    "all_cls_drugs = x_all.index + '.' + x_drug.index \n",
    "x_all.shape, x_drug.shape, len(y_list)"
   ]
  },
  {
   "cell_type": "code",
   "execution_count": null,
   "metadata": {},
   "outputs": [],
   "source": [
    "#test train split\n",
    "train_inds, test_inds = train_test_split(range(len(y_list)),test_size=0.8,\n",
    "                                         random_state=42)\n",
    "x_train, x_test = x_all.iloc[train_inds], x_all.iloc[test_inds]\n",
    "y_train, y_test = y_list[train_inds], y_list[test_inds]\n",
    "xdrug_train, xdrug_test = x_drug.iloc[train_inds], x_drug.iloc[test_inds]"
   ]
  },
  {
   "cell_type": "code",
   "execution_count": null,
   "metadata": {},
   "outputs": [],
   "source": [
    "print(x_train.shape, xdrug_train.shape, len(y_train))\n",
    "x_test.shape, xdrug_test.shape, len(y_test)"
   ]
  },
  {
   "cell_type": "code",
   "execution_count": null,
   "metadata": {
    "tags": []
   },
   "outputs": [],
   "source": [
    "#find the tranning cell lines, (needed for mean moel)\n",
    "train_cls = [cl_drug.split('.')[0] for cl_drug in all_cls_drugs[train_inds]]\n",
    "train_cls = np.unique(train_cls)\n",
    "test_cls = [cl_drug.split('.')[0] for cl_drug in all_cls_drugs[test_inds]]\n",
    "test_cls = np.unique(test_cls)\n",
    "test_drugs = [cl_drug.split('.')[1] for cl_drug in all_cls_drugs[test_inds]]"
   ]
  },
  {
   "cell_type": "markdown",
   "metadata": {
    "tags": []
   },
   "source": [
    "# Model bulding"
   ]
  },
  {
   "cell_type": "code",
   "execution_count": null,
   "metadata": {},
   "outputs": [],
   "source": [
    "def build_test_dnn(hps):\n",
    "    num_uni, *_ = hps\n",
    "    phos_input = layers.Input(shape=x_train.shape[1])\n",
    "    x = layers.Dense(num_uni, activation='relu')(phos_input)\n",
    "    drug_input = layers.Input(shape = (x_drug.shape[1]))\n",
    "    concatenated = layers.concatenate([x, drug_input])\n",
    "    hidd = layers.Dense(num_uni // 2, activation='relu')(concatenated)\n",
    "    output_tensor = layers.Dense(1)(hidd)\n",
    "    model = tf.keras.models.Model([phos_input,drug_input], output_tensor)\n",
    "    model.compile(\n",
    "        optimizer='rmsprop',\n",
    "        loss=tf.keras.metrics.mean_squared_error,\n",
    "        metrics=['mae'])\n",
    "    return model"
   ]
  },
  {
   "cell_type": "code",
   "execution_count": null,
   "metadata": {
    "tags": []
   },
   "outputs": [],
   "source": [
    "build_test_dnn([64]).summary()"
   ]
  },
  {
   "cell_type": "markdown",
   "metadata": {
    "jp-MarkdownHeadingCollapsed": true,
    "tags": []
   },
   "source": [
    "## Create a mean model for benchmarking\n",
    "(model that just predicts the average truth value for each drug"
   ]
  },
  {
   "cell_type": "code",
   "execution_count": null,
   "metadata": {},
   "outputs": [],
   "source": [
    "def create_mean_model(y):\n",
    "    ''' creates mean model for y, tranning data \n",
    "    \n",
    "    '''\n",
    "    mm = {}\n",
    "    for d in y.columns:\n",
    "        mm[d] = np.mean(y[d].dropna())\n",
    "    return mm\n"
   ]
  },
  {
   "cell_type": "code",
   "execution_count": null,
   "metadata": {},
   "outputs": [],
   "source": [
    "mean_model = create_mean_model(ic50_df1.loc[train_cls])"
   ]
  },
  {
   "cell_type": "markdown",
   "metadata": {
    "jp-MarkdownHeadingCollapsed": true,
    "tags": []
   },
   "source": [
    "## Create one hot encoded model for benchmarking "
   ]
  },
  {
   "cell_type": "code",
   "execution_count": null,
   "metadata": {},
   "outputs": [],
   "source": [
    "all_cls = phospho_ls.index\n",
    "one_hot_cls = []\n",
    "for i, cl in enumerate(all_cls):\n",
    "    hot_cl = np.zeros(len(all_cls))\n",
    "    hot_cl[i] = 1\n",
    "    one_hot_cls.append(hot_cl)\n",
    "one_hot_cls = pd.DataFrame(one_hot_cls)   \n",
    "one_hot_cls.index = all_cls"
   ]
  },
  {
   "cell_type": "code",
   "execution_count": null,
   "metadata": {},
   "outputs": [],
   "source": [
    "x_hot, x_drug_hot, y_hot = dp_nb.create_all_drugs(one_hot_cls, one_hot_drugs, ic50_df1, _all_cells)\n",
    "x_hot.shape, x_drug_hot.shape, len(y_hot)"
   ]
  },
  {
   "cell_type": "code",
   "execution_count": null,
   "metadata": {},
   "outputs": [],
   "source": [
    "x_train_hot, x_test_hot = x_hot.iloc[train_inds], x_hot.iloc[test_inds]\n",
    "y_train_hot, y_test_hot = y_hot[train_inds], y_hot[test_inds]\n",
    "xdrug_train_hot, xdrug_test_hot = x_drug_hot.iloc[train_inds], x_drug_hot.iloc[test_inds]\n",
    "x_train_hot.shape, xdrug_train_hot.shape, len(y_train_hot)"
   ]
  },
  {
   "cell_type": "code",
   "execution_count": null,
   "metadata": {},
   "outputs": [],
   "source": [
    "def build_dnn_hot(hps):\n",
    "    num_uni, *_ = hps\n",
    "    phos_input = layers.Input(shape=x_train_hot.shape[1])\n",
    "    x = layers.Dense(num_uni, activation='relu')(phos_input)\n",
    "    drug_input = layers.Input(shape = (x_drug.shape[1]))\n",
    "    concatenated = layers.concatenate([x, drug_input])\n",
    "    hidd = layers.Dense(num_uni // 2, activation='relu')(concatenated)\n",
    "    output_tensor = layers.Dense(1)(hidd)\n",
    "    model = tf.keras.models.Model([phos_input,drug_input], output_tensor)\n",
    "    model.compile(\n",
    "        optimizer='rmsprop',\n",
    "        loss=tf.keras.metrics.mean_squared_error,\n",
    "        metrics=['mae'])\n",
    "    return model"
   ]
  },
  {
   "cell_type": "code",
   "execution_count": null,
   "metadata": {},
   "outputs": [],
   "source": [
    "epochs = 100\n",
    "loss, val_loss, *_ = ms_nb.run_cv(build_dnn_hot, \n",
    "                                  [x_train_hot, xdrug_train_hot],\n",
    "                                  y_train_hot,\n",
    "                                  [64],\n",
    "                                  batch_size=4,\n",
    "                                  k=3,\n",
    "                                 epochs=epochs)"
   ]
  },
  {
   "cell_type": "code",
   "execution_count": null,
   "metadata": {},
   "outputs": [],
   "source": [
    "ms_nb.plot_cv(loss, val_loss, epochs=epochs)"
   ]
  },
  {
   "cell_type": "code",
   "execution_count": null,
   "metadata": {},
   "outputs": [],
   "source": [
    "2.01 - 0.068"
   ]
  },
  {
   "cell_type": "code",
   "execution_count": null,
   "metadata": {
    "scrolled": true,
    "tags": []
   },
   "outputs": [],
   "source": [
    "hot_benchmark = build_dnn_hot([54])\n",
    "hot_benchmark.fit([x_train_hot, xdrug_train_hot], y_train_hot, epochs=56, batch_size=4)"
   ]
  },
  {
   "cell_type": "markdown",
   "metadata": {
    "tags": []
   },
   "source": [
    "# Model seleciton\n",
    "Uses and tests functions from my model_selection module "
   ]
  },
  {
   "cell_type": "code",
   "execution_count": null,
   "metadata": {},
   "outputs": [],
   "source": [
    "epochs = 75\n",
    "loss, val_loss, *_ = ms_nb.run_cv(build_test_dnn, \n",
    "                                  [x_train, xdrug_train],\n",
    "                                  y_train,\n",
    "                                  [64],\n",
    "                                  batch_size=4,\n",
    "                                  k=3,\n",
    "                                 epochs=epochs)"
   ]
  },
  {
   "cell_type": "code",
   "execution_count": null,
   "metadata": {},
   "outputs": [],
   "source": [
    "ms_nb.plot_cv(loss, val_loss, epochs=epochs)"
   ]
  },
  {
   "cell_type": "markdown",
   "metadata": {
    "tags": []
   },
   "source": [
    "## Hyper param opt\n",
    "using run_random_hp_opt function"
   ]
  },
  {
   "cell_type": "code",
   "execution_count": null,
   "metadata": {},
   "outputs": [],
   "source": [
    "def build_test_dnn(hps):\n",
    "    '''Build neural network with keras\n",
    "    \n",
    "    Input hps as a dict\n",
    "    '''\n",
    "    num_hps = 1\n",
    "    #check number of hyper prams in arg and needed matches\n",
    "    assert len(hps) == num_hps \n",
    "    num_uni = hps['num_uni']\n",
    "    \n",
    "    phos_input = layers.Input(shape=x_train.shape[1])\n",
    "    x = layers.Dense(num_uni, activation='relu')(phos_input)\n",
    "    drug_input = layers.Input(shape = (x_drug.shape[1]))\n",
    "    concatenated = layers.concatenate([x, drug_input])\n",
    "    hidd = layers.Dense(num_uni // 2, activation='relu')(concatenated)\n",
    "    output_tensor = layers.Dense(1)(hidd)\n",
    "    model = tf.keras.models.Model([phos_input,drug_input], output_tensor)\n",
    "    model.compile(\n",
    "        optimizer='rmsprop',\n",
    "        loss=tf.keras.metrics.mean_squared_error,\n",
    "        metrics=['mae'])\n",
    "    return model"
   ]
  },
  {
   "cell_type": "code",
   "execution_count": null,
   "metadata": {
    "tags": []
   },
   "outputs": [],
   "source": [
    "num_trails = 3\n",
    "epochs = 10\n",
    "hp_grid = {'num_uni': [32, 64, 128]}\n",
    "\n",
    "opt_r, *_ = ms_nb.run_random_hp_opt(ParameterGrid(hp_grid),\n",
    "                                    [x_train, xdrug_train],\n",
    "                                    y_train,\n",
    "                                   num_trails,\n",
    "                                   build_test_dnn,\n",
    "                                   epochs,\n",
    "                                   batch_size=4)"
   ]
  },
  {
   "cell_type": "code",
   "execution_count": null,
   "metadata": {},
   "outputs": [],
   "source": [
    "from collections import namedtuple\n",
    "Results = namedtuple('tr',['rt', 'ft', 'xy' ])\n",
    "\n",
    "r = Results(1,2,3)\n",
    "r"
   ]
  },
  {
   "cell_type": "code",
   "execution_count": null,
   "metadata": {},
   "outputs": [],
   "source": [
    "r"
   ]
  },
  {
   "cell_type": "code",
   "execution_count": null,
   "metadata": {},
   "outputs": [],
   "source": [
    "opt_r"
   ]
  },
  {
   "cell_type": "markdown",
   "metadata": {
    "jp-MarkdownHeadingCollapsed": true,
    "tags": []
   },
   "source": [
    "# Model testing\n",
    "Uses and tests functions from my testing module "
   ]
  },
  {
   "cell_type": "code",
   "execution_count": null,
   "metadata": {
    "tags": []
   },
   "outputs": [],
   "source": [
    "dnn_test = build_test_dnn([5])\n",
    "dnn_test.fit([x_train, xdrug_train], y_train, epochs=5, batch_size=1)"
   ]
  },
  {
   "cell_type": "code",
   "execution_count": null,
   "metadata": {},
   "outputs": [],
   "source": [
    "dnn_pre = dnn_test.predict([x_test, xdrug_test])\n",
    "dnn_pre = dnn_pre.reshape(len(dnn_pre))\n",
    "plt.scatter(dnn_pre, y_test)\n",
    "r2_score(dnn_pre, y_test)"
   ]
  },
  {
   "cell_type": "code",
   "execution_count": null,
   "metadata": {},
   "outputs": [],
   "source": [
    "fig, ax = plt.subplots(figsize=(8, 5))\n",
    "pcm = ax.hist2d(dnn_pre.reshape(len(dnn_pre)), y_test, bins=75, cmap=plt.cm.jet)\n",
    "fig.colorbar(pcm[3])\n",
    "plt.show()\n",
    "r2_score(dnn_pre, y_test)"
   ]
  },
  {
   "cell_type": "code",
   "execution_count": null,
   "metadata": {},
   "outputs": [],
   "source": [
    "cl_results = t_nb.sort_results(dnn_pre, y_test, all_cls_drugs[test_inds], centered=0)\n",
    "drug_results = t_nb.sort_results(dnn_pre, y_test, all_cls_drugs[test_inds], centered=1)"
   ]
  },
  {
   "cell_type": "markdown",
   "metadata": {
    "tags": []
   },
   "source": [
    "## Benchmark models testing"
   ]
  },
  {
   "cell_type": "code",
   "execution_count": null,
   "metadata": {},
   "outputs": [],
   "source": [
    "#mean model \n",
    "fig, ax = plt.subplots(figsize=(8, 5))\n",
    "pcm = ax.hist2d(mm_pre, y_test, bins=75, cmap=plt.cm.jet)\n",
    "fig.colorbar(pcm[3])\n",
    "plt.show()\n",
    "r2_score(mm_pre, y_test)"
   ]
  },
  {
   "cell_type": "code",
   "execution_count": null,
   "metadata": {
    "tags": []
   },
   "outputs": [],
   "source": [
    "mm_pre = np.array([mean_model[d] for d in test_drugs])\n",
    "cl_results_mm = t_nb.sort_results(mm_pre, y_test, all_cls_drugs[test_inds], centered=0)\n",
    "drug_results_mm = t_nb.sort_results(mm_pre, y_test, all_cls_drugs[test_inds], centered=1)"
   ]
  },
  {
   "cell_type": "code",
   "execution_count": null,
   "metadata": {},
   "outputs": [],
   "source": [
    "#one hot encoded model\n",
    "hot_pre = hot_benchmark.predict([x_test_hot, xdrug_test_hot])\n",
    "hot_pre = hot_pre.reshape(len(hot_pre))\n",
    "\n",
    "fig, ax = plt.subplots(figsize=(8, 5))\n",
    "pcm = ax.hist2d(hot_pre, y_test_hot, bins=75, cmap=plt.cm.jet)\n",
    "fig.colorbar(pcm[3])\n",
    "plt.show()\n",
    "r2_score(hot_pre, y_test_hot)"
   ]
  },
  {
   "cell_type": "markdown",
   "metadata": {
    "jp-MarkdownHeadingCollapsed": true,
    "tags": []
   },
   "source": [
    "## Compare mean model with real model"
   ]
  },
  {
   "cell_type": "code",
   "execution_count": null,
   "metadata": {},
   "outputs": [],
   "source": [
    "def find_centric_statstic(result, statstic):\n",
    "    '''for drug or cell line centric results finds a test statstic\n",
    "    \n",
    "    '''\n",
    "    statstic_results = {}\n",
    "    for key in result.keys():\n",
    "        pre = result[key][0]\n",
    "        true = result[key][1]\n",
    "        statstic_results[key] = statstic(true, pre)\n",
    "    return statstic_results"
   ]
  },
  {
   "cell_type": "code",
   "execution_count": null,
   "metadata": {},
   "outputs": [],
   "source": [
    "cl_r2 = find_centric_statstic(cl_results, r2_score)\n",
    "cl_r2_mm = find_centric_statstic(cl_results_mm, r2_score)\n",
    "\n",
    "drug_r2 = find_centric_statstic(drug_results, r2_score)\n",
    "drug_r2_mm = find_centric_statstic(drug_results_mm, r2_score)"
   ]
  },
  {
   "cell_type": "code",
   "execution_count": null,
   "metadata": {},
   "outputs": [],
   "source": [
    "plt.hist(cl_r2.values())\n",
    "plt.show()\n",
    "plt.hist(cl_r2_mm.values())"
   ]
  },
  {
   "cell_type": "code",
   "execution_count": null,
   "metadata": {},
   "outputs": [],
   "source": [
    "plt.hist(drug_r2.values())\n",
    "plt.show()\n",
    "plt.hist(drug_r2_mm.values())"
   ]
  },
  {
   "cell_type": "code",
   "execution_count": null,
   "metadata": {},
   "outputs": [],
   "source": []
  }
 ],
 "metadata": {
  "kernelspec": {
   "display_name": "tfGPUforge",
   "language": "python",
   "name": "tfgpuforge"
  },
  "language_info": {
   "codemirror_mode": {
    "name": "ipython",
    "version": 3
   },
   "file_extension": ".py",
   "mimetype": "text/x-python",
   "name": "python",
   "nbconvert_exporter": "python",
   "pygments_lexer": "ipython3",
   "version": "3.9.7"
  }
 },
 "nbformat": 4,
 "nbformat_minor": 5
}
