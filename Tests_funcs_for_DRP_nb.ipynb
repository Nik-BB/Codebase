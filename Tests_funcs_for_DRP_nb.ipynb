{
 "cells": [
  {
   "cell_type": "markdown",
   "metadata": {},
   "source": [
    "### Test functions for DRP_nb module"
   ]
  },
  {
   "cell_type": "code",
   "execution_count": 27,
   "metadata": {},
   "outputs": [],
   "source": [
    "import os\n",
    "import torch\n",
    "import numpy as np\n",
    "import pandas as pd\n",
    "from importlib import reload\n",
    "import torch_geometric.data as tgd"
   ]
  },
  {
   "cell_type": "code",
   "execution_count": 2,
   "metadata": {},
   "outputs": [],
   "source": [
    "from DRP_nb import data_imports, feature_selection, utils, splitting"
   ]
  },
  {
   "cell_type": "code",
   "execution_count": 38,
   "metadata": {},
   "outputs": [
    {
     "data": {
      "text/plain": [
       "<module 'DRP_nb.splitting' from '/data/home/wpw035/Codebase/DRP_nb/splitting.py'>"
      ]
     },
     "execution_count": 38,
     "metadata": {},
     "output_type": "execute_result"
    }
   ],
   "source": [
    "reload(data_imports)\n",
    "reload(feature_selection)\n",
    "reload(utils)\n",
    "reload(splitting)"
   ]
  },
  {
   "cell_type": "markdown",
   "metadata": {},
   "source": [
    "## Data imports"
   ]
  },
  {
   "cell_type": "code",
   "execution_count": 23,
   "metadata": {},
   "outputs": [
    {
     "data": {
      "text/plain": [
       "DrpInputData, ['phos'] omics, mol_graph drug representation"
      ]
     },
     "execution_count": 23,
     "metadata": {},
     "output_type": "execute_result"
    }
   ],
   "source": [
    "#input phos prot rna (ppr) data\n",
    "inp_ppr = data_imports.DrpInputData(omic_types=['phos'], drug_rep='mol_graph')\n",
    "#take out disjoint cls\n",
    "inp_ppr.remove_disjoint()\n",
    "inp_ppr"
   ]
  },
  {
   "cell_type": "markdown",
   "metadata": {},
   "source": [
    "## Feature selection and create data for all drugs\n",
    "here using ladmarks targets that are also ladmarks (ltl)"
   ]
  },
  {
   "cell_type": "code",
   "execution_count": 24,
   "metadata": {
    "scrolled": true
   },
   "outputs": [],
   "source": [
    "ltl = feature_selection.ltl(inp_ppr.phos.columns)\n",
    "x_all_phos, x_drug, y_list = utils.create_all_drugs(\n",
    "    inp_ppr.phos, inp_ppr.marker_drugs, inp_ppr.y_df)\n",
    "\n",
    "_all_cls = inp_ppr.phos.index\n",
    "_all_drugs = inp_ppr.all_drugs"
   ]
  },
  {
   "cell_type": "markdown",
   "metadata": {},
   "source": [
    "## Data splitting and putting data in dataloaders"
   ]
  },
  {
   "cell_type": "code",
   "execution_count": 25,
   "metadata": {},
   "outputs": [
    {
     "name": "stdout",
     "output_type": "stream",
     "text": [
      "Fraction of cls in sets, relative to all clsbefore mising values are removed\n",
      "train fraction 0.7857142857142857, test fraction 0.21428571428571427\n",
      "------\n",
      "Fraction of cls in sets, relative to all cl drug pairs, after mising values are removed\n",
      "train fraction 0.6915622389306599, test fraction 0.20192147034252297\n",
      "Fraction of cls in sets, relative to all clsbefore mising values are removed\n",
      "train fraction 0.4444444444444444, test fraction 0.5555555555555556\n",
      "------\n",
      "Fraction of cls in sets, relative to all cl drug pairs, after mising values are removed\n",
      "train fraction 0.40896686159844053, test fraction 0.5333333333333333\n"
     ]
    }
   ],
   "source": [
    "pairs_with_truth_vals = y_list.index\n",
    "batch_size = 512\n",
    "train_size = 0.8\n",
    "rand_seed = 42\n",
    "\n",
    "train_pairs, test_pairs = splitting.split(\n",
    "    rand_seed, _all_cls, _all_drugs, pairs_with_truth_vals,\n",
    "    train_size=train_size, split_type='cblind')\n",
    "\n",
    "test_cls = np.unique([cl.split('::')[0] for cl in test_pairs])\n",
    "val_pairs, test_pairs = splitting.split(\n",
    "    rand_seed, pd.Index(test_cls), _all_drugs, test_pairs,\n",
    "    train_size=0.5, split_type='cblind') \n",
    "\n",
    "xo_train_phos = x_all_phos.loc[train_pairs]\n",
    "xo_val_phos = x_all_phos.loc[val_pairs]\n",
    "xo_test_phos = x_all_phos.loc[test_pairs]\n",
    "\n",
    "xd_train = x_drug.loc[train_pairs]\n",
    "xd_val = x_drug.loc[val_pairs]\n",
    "xd_test = x_drug.loc[test_pairs]\n",
    "\n",
    "\n",
    "y_train = y_list[train_pairs]\n",
    "y_val = y_list[val_pairs]\n",
    "y_test = y_list[test_pairs]"
   ]
  },
  {
   "cell_type": "code",
   "execution_count": 39,
   "metadata": {},
   "outputs": [],
   "source": [
    "train_dls = utils.into_dls([np.expand_dims(xo_train_phos, 1), xd_train, \n",
    "                            np.expand_dims(y_train, 1)])\n",
    "test_dls = utils.into_dls([np.expand_dims(xo_test_phos, 1), xd_test, \n",
    "                           np.expand_dims(y_test, 1)], \n",
    "                          batch_size=len(y_test))\n",
    "val_dls = utils.into_dls([np.expand_dims(xo_val_phos, 1), xd_val, \n",
    "                         np.expand_dims(y_val, 1)], \n",
    "                         batch_size=len(y_val))"
   ]
  },
  {
   "cell_type": "code",
   "execution_count": 16,
   "metadata": {},
   "outputs": [],
   "source": [
    "from torch_geometric.data import batch "
   ]
  },
  {
   "cell_type": "code",
   "execution_count": 35,
   "metadata": {},
   "outputs": [
    {
     "data": {
      "text/plain": [
       "<module 'torch_geometric.data' from '/data/home/wpw035/.conda/envs/pytorch1/lib/python3.10/site-packages/torch_geometric/data/__init__.py'>"
      ]
     },
     "execution_count": 35,
     "metadata": {},
     "output_type": "execute_result"
    }
   ],
   "source": [
    "tgd"
   ]
  },
  {
   "cell_type": "code",
   "execution_count": 17,
   "metadata": {},
   "outputs": [
    {
     "data": {
      "text/plain": [
       "DataBatch()"
      ]
     },
     "execution_count": 17,
     "metadata": {},
     "output_type": "execute_result"
    }
   ],
   "source": [
    "tgd.Batch()"
   ]
  },
  {
   "cell_type": "code",
   "execution_count": 28,
   "metadata": {},
   "outputs": [],
   "source": [
    "#dict that maps drug cl pair to graph rep (has lots of repeats)\n",
    "pairs_to_graphs = {}\n",
    "for pair in pairs_with_truth_vals:\n",
    "    d = pair.split('::')[1]\n",
    "    y = y_list.loc[pair].astype(np.float32)\n",
    "    y = np.expand_dims(y, -1)\n",
    "    graph = tgd.Data.clone(inp_ppr.dtg[d])\n",
    "    graph.y = torch.tensor(y)\n",
    "    pairs_to_graphs[pair] = graph\n",
    "\n",
    "#map train and testing pairs to graphs in torch geo list objects \n",
    "train_graphs = tgd.Batch().from_data_list(\n",
    "    [pairs_to_graphs[pair] for pair in train_pairs])\n",
    "#test_graphs = tgd.Batch().from_data_list(\n",
    "    #[pairs_to_graphs[pair] for pair in test_pairs])\n",
    "#val_graphs = tgd.Batch().from_data_list(\n",
    "##[pairs_to_graphs[pair] for pair in val_pairs])"
   ]
  },
  {
   "cell_type": "code",
   "execution_count": 40,
   "metadata": {},
   "outputs": [],
   "source": [
    "train_graph_dls = utils.into_dls([np.expand_dims(xo_train_phos, 1), \n",
    "                                  train_graphs, \n",
    "                                  np.expand_dims(y_train, 1)])"
   ]
  },
  {
   "cell_type": "code",
   "execution_count": 41,
   "metadata": {},
   "outputs": [
    {
     "data": {
      "text/plain": [
       "[<torch.utils.data.dataloader.DataLoader at 0x2ab80a8b1ff0>,\n",
       " <torch_geometric.loader.dataloader.DataLoader at 0x2ab80a8b0d90>,\n",
       " <torch.utils.data.dataloader.DataLoader at 0x2ab80a8b0af0>]"
      ]
     },
     "execution_count": 41,
     "metadata": {},
     "output_type": "execute_result"
    }
   ],
   "source": [
    "train_graph_dls"
   ]
  },
  {
   "cell_type": "code",
   "execution_count": 36,
   "metadata": {},
   "outputs": [
    {
     "data": {
      "text/plain": [
       "torch_geometric.data.batch.DataDataBatch"
      ]
     },
     "execution_count": 36,
     "metadata": {},
     "output_type": "execute_result"
    }
   ],
   "source": [
    "type(train_graphs)"
   ]
  },
  {
   "cell_type": "code",
   "execution_count": 37,
   "metadata": {},
   "outputs": [
    {
     "data": {
      "text/plain": [
       "True"
      ]
     },
     "execution_count": 37,
     "metadata": {},
     "output_type": "execute_result"
    }
   ],
   "source": [
    "type(train_graphs) == tgd.batch.DataDataBatch"
   ]
  },
  {
   "cell_type": "code",
   "execution_count": 7,
   "metadata": {},
   "outputs": [
    {
     "data": {
      "text/plain": [
       "\"\\n#get one-hot enconidg of smiles for test train set.\\ndef create_smiles_hot(drugs, drug_to_econding_dict=inp_ppr.dths):\\n    #Ceate x data for drugs using smiles one-hot enconding\\n\\n\\n    x_drug_final = []\\n    for drug in drugs:\\n        x_drug_final.append(drug_to_econding_dict[drug])\\n\\n    x_drug_final = np.dstack(x_drug_final)\\n    x_drug_final = np.rollaxis(x_drug_final, -1)\\n\\n    return x_drug_final\\n\\nxd_smile_train = create_smiles_hot(\\n    [cl_d.split('::')[1] for cl_d in train_pairs]).astype('float32')\\nxd_smile_test = create_smiles_hot(\\n    [cl_d.split('::')[1] for cl_d in test_pairs]).astype('float32')\\nxd_smile_val = create_smiles_hot(\\n    [cl_d.split('::')[1] for cl_d in val_pairs]).astype('float32')\\n\\nxd_smile_train = np.swapaxes(xd_smile_train, 1, 2)\\nxd_smile_test = np.swapaxes(xd_smile_test, 1, 2)\\nxd_smile_val = np.swapaxes(xd_smile_val, 1, 2)\\n\\n\\n#dict that maps drug cl pair to graph rep (has lots of repeats)\\npairs_to_graphs = {}\\nfor pair in pairs_with_truth_vals:\\n    d = pair.split('::')[1]\\n    y = y_list.loc[pair].astype(np.float32)\\n    y = np.expand_dims(y, -1)\\n    graph = tgd.Data.clone(drugs_to_graphs[d])\\n    graph.y = torch.tensor(y)\\n    pairs_to_graphs[pair] = graph\\n\\n#map train and testing pairs to graphs in torch geo list objects \\ntrain_graphs = tgd.Batch().from_data_list(\\n    [pairs_to_graphs[pair] for pair in train_pairs])\\n#test_graphs = tgd.Batch().from_data_list(\\n    #[pairs_to_graphs[pair] for pair in test_pairs])\\n#val_graphs = tgd.Batch().from_data_list(\\n##[pairs_to_graphs[pair] for pair in val_pairs])\\n\""
      ]
     },
     "execution_count": 7,
     "metadata": {},
     "output_type": "execute_result"
    }
   ],
   "source": [
    "\n",
    "'''\n",
    "#get one-hot enconidg of smiles for test train set.\n",
    "def create_smiles_hot(drugs, drug_to_econding_dict=inp_ppr.dths):\n",
    "    #Ceate x data for drugs using smiles one-hot enconding\n",
    "\n",
    "\n",
    "    x_drug_final = []\n",
    "    for drug in drugs:\n",
    "        x_drug_final.append(drug_to_econding_dict[drug])\n",
    "\n",
    "    x_drug_final = np.dstack(x_drug_final)\n",
    "    x_drug_final = np.rollaxis(x_drug_final, -1)\n",
    "\n",
    "    return x_drug_final\n",
    "\n",
    "xd_smile_train = create_smiles_hot(\n",
    "    [cl_d.split('::')[1] for cl_d in train_pairs]).astype('float32')\n",
    "xd_smile_test = create_smiles_hot(\n",
    "    [cl_d.split('::')[1] for cl_d in test_pairs]).astype('float32')\n",
    "xd_smile_val = create_smiles_hot(\n",
    "    [cl_d.split('::')[1] for cl_d in val_pairs]).astype('float32')\n",
    "\n",
    "xd_smile_train = np.swapaxes(xd_smile_train, 1, 2)\n",
    "xd_smile_test = np.swapaxes(xd_smile_test, 1, 2)\n",
    "xd_smile_val = np.swapaxes(xd_smile_val, 1, 2)\n",
    "\n",
    "\n",
    "#dict that maps drug cl pair to graph rep (has lots of repeats)\n",
    "pairs_to_graphs = {}\n",
    "for pair in pairs_with_truth_vals:\n",
    "    d = pair.split('::')[1]\n",
    "    y = y_list.loc[pair].astype(np.float32)\n",
    "    y = np.expand_dims(y, -1)\n",
    "    graph = tgd.Data.clone(drugs_to_graphs[d])\n",
    "    graph.y = torch.tensor(y)\n",
    "    pairs_to_graphs[pair] = graph\n",
    "\n",
    "#map train and testing pairs to graphs in torch geo list objects \n",
    "train_graphs = tgd.Batch().from_data_list(\n",
    "    [pairs_to_graphs[pair] for pair in train_pairs])\n",
    "#test_graphs = tgd.Batch().from_data_list(\n",
    "    #[pairs_to_graphs[pair] for pair in test_pairs])\n",
    "#val_graphs = tgd.Batch().from_data_list(\n",
    "##[pairs_to_graphs[pair] for pair in val_pairs])\n",
    "'''"
   ]
  },
  {
   "cell_type": "code",
   "execution_count": null,
   "metadata": {},
   "outputs": [],
   "source": []
  },
  {
   "cell_type": "code",
   "execution_count": null,
   "metadata": {},
   "outputs": [],
   "source": []
  }
 ],
 "metadata": {
  "kernelspec": {
   "display_name": "pytorch1",
   "language": "python",
   "name": "pytorch1"
  },
  "language_info": {
   "codemirror_mode": {
    "name": "ipython",
    "version": 3
   },
   "file_extension": ".py",
   "mimetype": "text/x-python",
   "name": "python",
   "nbconvert_exporter": "python",
   "pygments_lexer": "ipython3",
   "version": "3.10.9"
  }
 },
 "nbformat": 4,
 "nbformat_minor": 4
}
