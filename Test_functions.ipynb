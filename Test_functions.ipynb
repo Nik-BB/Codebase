{
 "cells": [
  {
   "cell_type": "markdown",
   "id": "bce7a5b2-05c5-4b5b-b681-59f45ef9e29c",
   "metadata": {},
   "source": [
    "# Notebook to test and demo the reuseable functions in the codebase\n",
    "added tested comments"
   ]
  },
  {
   "cell_type": "code",
   "execution_count": 160,
   "id": "546412a1-ffec-4179-87fe-88689c050515",
   "metadata": {},
   "outputs": [],
   "source": [
    "import numpy as np\n",
    "import pandas as pd\n",
    "import matplotlib.pyplot as plt\n",
    "import tensorflow as tf\n",
    "import sklearn\n",
    "from importlib import reload\n",
    "from sklearn.preprocessing import StandardScaler\n",
    "from sklearn.model_selection import train_test_split\n",
    "from tensorflow.keras import layers\n",
    "from sklearn.metrics import r2_score"
   ]
  },
  {
   "cell_type": "code",
   "execution_count": 184,
   "id": "9e98d18f-4064-4f3b-8efa-c9b900320591",
   "metadata": {},
   "outputs": [],
   "source": [
    "from DRP_utils import data_preprocessing as dp_nb\n",
    "reload(dp_nb)\n",
    "from DRP_utils import model_selection as ms_nb\n",
    "reload(ms_nb)\n",
    "from DRP_utils import testing as t_nb"
   ]
  },
  {
   "cell_type": "markdown",
   "id": "79845ccb-c915-4ba9-ac73-f001fd9925b2",
   "metadata": {
    "tags": []
   },
   "source": [
    "# Data reading and preprocessing\n",
    "\n",
    "Uses and tests functions from my data_preprocessing module "
   ]
  },
  {
   "cell_type": "code",
   "execution_count": 3,
   "id": "9bef7acc-babe-4367-a5f2-db705ea34e08",
   "metadata": {
    "tags": []
   },
   "outputs": [],
   "source": [
    "#read and format target values\n",
    "\n",
    "df_ic50 = pd.read_csv('downloaded_data_small/GDSC1_ic50.csv')\n",
    "frame = {}\n",
    "for d in np.unique(df_ic50['CELL_LINE_NAME']):\n",
    "    cellDf = df_ic50[df_ic50['CELL_LINE_NAME'] == d]\n",
    "    cellDf.index = cellDf['DRUG_NAME']\n",
    "    frame[d] = cellDf['LN_IC50']\n",
    "    \n",
    "    \n",
    "def remove_repeats_mean_gdsc1(frame, df_ic50): \n",
    "    new_frame = {}\n",
    "    for cell_line in np.unique(df_ic50['CELL_LINE_NAME']):\n",
    "        temp_subset = frame[cell_line].groupby(frame[cell_line].index).mean()\n",
    "        new_frame[cell_line] = temp_subset\n",
    "    return new_frame  \n",
    "\n",
    "new_frame = remove_repeats_mean_gdsc1(frame, df_ic50)\n",
    "ic50_df1 = pd.DataFrame(new_frame).T\n",
    "\n",
    "_all_drugs = ic50_df1.columns"
   ]
  },
  {
   "cell_type": "code",
   "execution_count": 4,
   "id": "663e8627-e7a8-4a5f-933d-94051d2d5d50",
   "metadata": {
    "tags": []
   },
   "outputs": [],
   "source": [
    "#read and format phos data\n",
    "\n",
    "phos_raw = pd.read_csv('downloaded_data_small/suppData2ppIndexPhospo.csv')\n",
    "#makes index features \n",
    "phos_raw.index = phos_raw['col.name']\n",
    "phos_raw.drop(columns='col.name', inplace=True)\n",
    "#formats cell lines in the same way as in target value df. \n",
    "phos_raw.columns = [c.replace('.', '-') for c in phos_raw.columns]\n",
    "phos_raw = phos_raw.T"
   ]
  },
  {
   "cell_type": "code",
   "execution_count": 5,
   "id": "20e0e70a-ec22-43d1-ae0c-741bfac96b05",
   "metadata": {
    "tags": []
   },
   "outputs": [
    {
     "data": {
      "text/plain": [
       "((42, 22804), (42, 345))"
      ]
     },
     "execution_count": 5,
     "metadata": {},
     "output_type": "execute_result"
    }
   ],
   "source": [
    "phos_raw, ic50_df1 = dp_nb.keep_overlapping(phos_raw, ic50_df1)\n",
    "_all_cells = phos_raw.index\n",
    "phos_raw.shape, ic50_df1.shape"
   ]
  },
  {
   "cell_type": "code",
   "execution_count": 6,
   "id": "9656c543-fbdf-4b80-8827-77693839aa26",
   "metadata": {},
   "outputs": [],
   "source": [
    "#log transfrom\n",
    "phospho_log = np.log2(phos_raw).replace(-np.inf, 0)\n",
    "#norm by cell line standard scale \n",
    "scale = StandardScaler()\n",
    "phospho_ls = pd.DataFrame(scale.fit_transform(phospho_log.T),\n",
    "                       columns = phospho_log.index,\n",
    "                       index = phospho_log.columns).T\n",
    "#drug one hot encoding\n",
    "frame = {}\n",
    "for i,d in enumerate(_all_drugs):\n",
    "    hot_vec = np.zeros(len(_all_drugs))\n",
    "    hot_vec[i] = 1\n",
    "    frame[d] = hot_vec\n",
    "one_hot_drugs = pd.DataFrame(frame)"
   ]
  },
  {
   "cell_type": "code",
   "execution_count": 7,
   "id": "c45462b8-3567-4550-a85d-e29f8b3577f6",
   "metadata": {},
   "outputs": [
    {
     "data": {
      "text/plain": [
       "((12903, 22804), (12903, 345), 12903)"
      ]
     },
     "execution_count": 7,
     "metadata": {},
     "output_type": "execute_result"
    }
   ],
   "source": [
    "x_all, x_drug, y_list = dp_nb.create_all_drugs(phospho_ls, one_hot_drugs, ic50_df1, _all_cells)\n",
    "all_cls_drugs = x_all.index + '.' + x_drug.index \n",
    "x_all.shape, x_drug.shape, len(y_list)"
   ]
  },
  {
   "cell_type": "code",
   "execution_count": 8,
   "id": "ac167219-4ed0-41bf-926e-cddde650ee75",
   "metadata": {},
   "outputs": [],
   "source": [
    "#test train split\n",
    "train_inds, test_inds = train_test_split(range(len(y_list)),test_size=0.8,\n",
    "                                         random_state=42)\n",
    "x_train, x_test = x_all.iloc[train_inds], x_all.iloc[test_inds]\n",
    "y_train, y_test = y_list[train_inds], y_list[test_inds]\n",
    "xdrug_train, xdrug_test = x_drug.iloc[train_inds], x_drug.iloc[test_inds]"
   ]
  },
  {
   "cell_type": "code",
   "execution_count": 9,
   "id": "39c027d9-8599-4b2a-8323-ae40d366c589",
   "metadata": {},
   "outputs": [
    {
     "name": "stdout",
     "output_type": "stream",
     "text": [
      "(2580, 22804) (2580, 345) 2580\n"
     ]
    },
    {
     "data": {
      "text/plain": [
       "((10323, 22804), (10323, 345), 10323)"
      ]
     },
     "execution_count": 9,
     "metadata": {},
     "output_type": "execute_result"
    }
   ],
   "source": [
    "print(x_train.shape, xdrug_train.shape, len(y_train))\n",
    "x_test.shape, xdrug_test.shape, len(y_test)"
   ]
  },
  {
   "cell_type": "code",
   "execution_count": 10,
   "id": "4752be38-366b-461c-ac2d-534b9420382a",
   "metadata": {
    "tags": []
   },
   "outputs": [],
   "source": [
    "#find the tranning cell lines, (needed for mean moel)\n",
    "train_cls = [cl_drug.split('.')[0] for cl_drug in all_cls_drugs[train_inds]]\n",
    "train_cls = np.unique(train_cls)\n",
    "test_cls = [cl_drug.split('.')[0] for cl_drug in all_cls_drugs[test_inds]]\n",
    "test_cls = np.unique(test_cls)\n",
    "test_drugs = [cl_drug.split('.')[1] for cl_drug in all_cls_drugs[test_inds]]"
   ]
  },
  {
   "cell_type": "markdown",
   "id": "7e8f64b7-e0a6-4b44-a257-537aaa611ae2",
   "metadata": {
    "tags": []
   },
   "source": [
    "# Model bulding"
   ]
  },
  {
   "cell_type": "code",
   "execution_count": 190,
   "id": "f7f9dd24-7a37-4b16-9473-951275f2e13a",
   "metadata": {},
   "outputs": [],
   "source": [
    "def build_test_dnn(hps):\n",
    "    num_uni, *_ = hps\n",
    "    phos_input = layers.Input(shape=x_train.shape[1])\n",
    "    x = layers.Dense(num_uni, activation='relu')(phos_input)\n",
    "    drug_input = layers.Input(shape = (x_drug.shape[1]))\n",
    "    concatenated = layers.concatenate([x, drug_input])\n",
    "    hidd = layers.Dense(num_uni // 2, activation='relu')(concatenated)\n",
    "    output_tensor = layers.Dense(1)(hidd)\n",
    "    model = tf.keras.models.Model([phos_input,drug_input], output_tensor)\n",
    "    model.compile(\n",
    "        optimizer='rmsprop',\n",
    "        loss=tf.keras.metrics.mean_squared_error,\n",
    "        metrics=['mae'])\n",
    "    return model"
   ]
  },
  {
   "cell_type": "code",
   "execution_count": 12,
   "id": "512d10b6-ea04-4e1a-aa5f-46b5d0290899",
   "metadata": {
    "collapsed": true,
    "jupyter": {
     "outputs_hidden": true
    },
    "tags": []
   },
   "outputs": [
    {
     "name": "stdout",
     "output_type": "stream",
     "text": [
      "Metal device set to: Apple M1 Pro\n",
      "Model: \"model\"\n",
      "__________________________________________________________________________________________________\n",
      "Layer (type)                    Output Shape         Param #     Connected to                     \n",
      "==================================================================================================\n",
      "input_1 (InputLayer)            [(None, 22804)]      0                                            \n",
      "__________________________________________________________________________________________________\n",
      "dense (Dense)                   (None, 64)           1459520     input_1[0][0]                    \n",
      "__________________________________________________________________________________________________\n",
      "input_2 (InputLayer)            [(None, 345)]        0                                            \n",
      "__________________________________________________________________________________________________\n",
      "concatenate (Concatenate)       (None, 409)          0           dense[0][0]                      \n",
      "                                                                 input_2[0][0]                    \n",
      "__________________________________________________________________________________________________\n",
      "dense_1 (Dense)                 (None, 32)           13120       concatenate[0][0]                \n",
      "__________________________________________________________________________________________________\n",
      "dense_2 (Dense)                 (None, 1)            33          dense_1[0][0]                    \n",
      "==================================================================================================\n",
      "Total params: 1,472,673\n",
      "Trainable params: 1,472,673\n",
      "Non-trainable params: 0\n",
      "__________________________________________________________________________________________________\n"
     ]
    },
    {
     "name": "stderr",
     "output_type": "stream",
     "text": [
      "2022-07-22 15:31:22.318144: I tensorflow/core/common_runtime/pluggable_device/pluggable_device_factory.cc:305] Could not identify NUMA node of platform GPU ID 0, defaulting to 0. Your kernel may not have been built with NUMA support.\n",
      "2022-07-22 15:31:22.318328: I tensorflow/core/common_runtime/pluggable_device/pluggable_device_factory.cc:271] Created TensorFlow device (/job:localhost/replica:0/task:0/device:GPU:0 with 0 MB memory) -> physical PluggableDevice (device: 0, name: METAL, pci bus id: <undefined>)\n"
     ]
    }
   ],
   "source": [
    "build_test_dnn([64]).summary()"
   ]
  },
  {
   "cell_type": "markdown",
   "id": "090ccff8-2eff-4895-ab16-e1332c19c5fc",
   "metadata": {
    "jp-MarkdownHeadingCollapsed": true,
    "tags": []
   },
   "source": [
    "## Create a mean model for benchmarking\n",
    "(model that just predicts the average truth value for each drug"
   ]
  },
  {
   "cell_type": "code",
   "execution_count": 13,
   "id": "4c0ded52-9fd8-499a-a53d-e85d16054cfe",
   "metadata": {},
   "outputs": [],
   "source": [
    "def create_mean_model(y):\n",
    "    ''' creates mean model for y, tranning data \n",
    "    \n",
    "    '''\n",
    "    mm = {}\n",
    "    for d in y.columns:\n",
    "        mm[d] = np.mean(y[d].dropna())\n",
    "    return mm\n"
   ]
  },
  {
   "cell_type": "code",
   "execution_count": 14,
   "id": "7002150f-6d29-4224-b416-56103daec0f1",
   "metadata": {},
   "outputs": [],
   "source": [
    "mean_model = create_mean_model(ic50_df1.loc[train_cls])"
   ]
  },
  {
   "cell_type": "markdown",
   "id": "919edc36-89c3-4f96-aca6-d3e76d06ebcd",
   "metadata": {
    "jp-MarkdownHeadingCollapsed": true,
    "tags": []
   },
   "source": [
    "## Create one hot encoded model for benchmarking "
   ]
  },
  {
   "cell_type": "code",
   "execution_count": 146,
   "id": "c68a8dc9-d421-402f-8f62-c2f160d3b987",
   "metadata": {},
   "outputs": [],
   "source": [
    "all_cls = phospho_ls.index\n",
    "one_hot_cls = []\n",
    "for i, cl in enumerate(all_cls):\n",
    "    hot_cl = np.zeros(len(all_cls))\n",
    "    hot_cl[i] = 1\n",
    "    one_hot_cls.append(hot_cl)\n",
    "one_hot_cls = pd.DataFrame(one_hot_cls)   \n",
    "one_hot_cls.index = all_cls"
   ]
  },
  {
   "cell_type": "code",
   "execution_count": 156,
   "id": "5f335b00-328e-4b3f-87f5-985b0ae210a8",
   "metadata": {},
   "outputs": [
    {
     "data": {
      "text/plain": [
       "((12903, 42), (12903, 345), 12903)"
      ]
     },
     "execution_count": 156,
     "metadata": {},
     "output_type": "execute_result"
    }
   ],
   "source": [
    "x_hot, x_drug_hot, y_hot = dp_nb.create_all_drugs(one_hot_cls, one_hot_drugs, ic50_df1, _all_cells)\n",
    "x_hot.shape, x_drug_hot.shape, len(y_hot)"
   ]
  },
  {
   "cell_type": "code",
   "execution_count": 158,
   "id": "e0ffc2c9-4ca8-4f0d-937d-600aa5275e98",
   "metadata": {},
   "outputs": [
    {
     "data": {
      "text/plain": [
       "((2580, 42), (2580, 345), 2580)"
      ]
     },
     "execution_count": 158,
     "metadata": {},
     "output_type": "execute_result"
    }
   ],
   "source": [
    "x_train_hot, x_test_hot = x_hot.iloc[train_inds], x_hot.iloc[test_inds]\n",
    "y_train_hot, y_test_hot = y_hot[train_inds], y_hot[test_inds]\n",
    "xdrug_train_hot, xdrug_test_hot = x_drug_hot.iloc[train_inds], x_drug_hot.iloc[test_inds]\n",
    "x_train_hot.shape, xdrug_train_hot.shape, len(y_train_hot)"
   ]
  },
  {
   "cell_type": "code",
   "execution_count": 15,
   "id": "1cbf2ea4-9e61-454a-bea6-6e704313dd79",
   "metadata": {},
   "outputs": [],
   "source": [
    "def build_dnn_hot(hps):\n",
    "    num_uni, *_ = hps\n",
    "    phos_input = layers.Input(shape=x_train_hot.shape[1])\n",
    "    x = layers.Dense(num_uni, activation='relu')(phos_input)\n",
    "    drug_input = layers.Input(shape = (x_drug.shape[1]))\n",
    "    concatenated = layers.concatenate([x, drug_input])\n",
    "    hidd = layers.Dense(num_uni // 2, activation='relu')(concatenated)\n",
    "    output_tensor = layers.Dense(1)(hidd)\n",
    "    model = tf.keras.models.Model([phos_input,drug_input], output_tensor)\n",
    "    model.compile(\n",
    "        optimizer='rmsprop',\n",
    "        loss=tf.keras.metrics.mean_squared_error,\n",
    "        metrics=['mae'])\n",
    "    return model"
   ]
  },
  {
   "cell_type": "code",
   "execution_count": 167,
   "id": "51796823-6ce7-47cf-94be-c637f0fed170",
   "metadata": {},
   "outputs": [
    {
     "name": "stdout",
     "output_type": "stream",
     "text": [
      "0.0\n"
     ]
    },
    {
     "name": "stderr",
     "output_type": "stream",
     "text": [
      "2022-07-21 17:29:02.118078: I tensorflow/core/grappler/optimizers/custom_graph_optimizer_registry.cc:112] Plugin optimizer for device_type GPU is enabled.\n",
      "2022-07-21 17:29:04.097788: I tensorflow/core/grappler/optimizers/custom_graph_optimizer_registry.cc:112] Plugin optimizer for device_type GPU is enabled.\n"
     ]
    },
    {
     "name": "stdout",
     "output_type": "stream",
     "text": [
      "0.3333333333333333\n"
     ]
    },
    {
     "name": "stderr",
     "output_type": "stream",
     "text": [
      "2022-07-21 17:32:39.644191: I tensorflow/core/grappler/optimizers/custom_graph_optimizer_registry.cc:112] Plugin optimizer for device_type GPU is enabled.\n",
      "2022-07-21 17:32:41.572530: I tensorflow/core/grappler/optimizers/custom_graph_optimizer_registry.cc:112] Plugin optimizer for device_type GPU is enabled.\n"
     ]
    },
    {
     "name": "stdout",
     "output_type": "stream",
     "text": [
      "0.6666666666666666\n"
     ]
    },
    {
     "name": "stderr",
     "output_type": "stream",
     "text": [
      "2022-07-21 17:36:16.655302: I tensorflow/core/grappler/optimizers/custom_graph_optimizer_registry.cc:112] Plugin optimizer for device_type GPU is enabled.\n",
      "2022-07-21 17:36:18.664819: I tensorflow/core/grappler/optimizers/custom_graph_optimizer_registry.cc:112] Plugin optimizer for device_type GPU is enabled.\n"
     ]
    }
   ],
   "source": [
    "epochs = 100\n",
    "loss, val_loss, *_ = ms_nb.run_cv(build_dnn_hot, \n",
    "                                  [x_train_hot, xdrug_train_hot],\n",
    "                                  y_train_hot,\n",
    "                                  [64],\n",
    "                                  batch_size=4,\n",
    "                                  k=3,\n",
    "                                 epochs=epochs)"
   ]
  },
  {
   "cell_type": "code",
   "execution_count": 168,
   "id": "12abc666-7467-4930-8616-701d78032ef4",
   "metadata": {},
   "outputs": [
    {
     "name": "stdout",
     "output_type": "stream",
     "text": [
      "(2.010772625605265, 0.068, 56)\n"
     ]
    },
    {
     "data": {
      "image/png": "[encoded data removed]",
      "text/plain": [
       "<Figure size 432x288 with 1 Axes>"
      ]
     },
     "metadata": {
      "needs_background": "light"
     },
     "output_type": "display_data"
    }
   ],
   "source": [
    "ms_nb.plot_cv(loss, val_loss, epochs=epochs)"
   ]
  },
  {
   "cell_type": "code",
   "execution_count": 19,
   "id": "af6c2fce-db91-4a15-baff-483d2ac1a829",
   "metadata": {},
   "outputs": [
    {
     "data": {
      "text/plain": [
       "1.9419999999999997"
      ]
     },
     "execution_count": 19,
     "metadata": {},
     "output_type": "execute_result"
    }
   ],
   "source": [
    "2.01 - 0.068"
   ]
  },
  {
   "cell_type": "code",
   "execution_count": 176,
   "id": "9fc6542a-64c4-49a9-b40f-c2da2718c864",
   "metadata": {
    "scrolled": true,
    "tags": []
   },
   "outputs": [
    {
     "name": "stdout",
     "output_type": "stream",
     "text": [
      "Epoch 1/56\n",
      " 20/645 [..............................] - ETA: 3s - loss: 9.3404 - mae: 2.6350 "
     ]
    },
    {
     "name": "stderr",
     "output_type": "stream",
     "text": [
      "2022-07-21 17:59:30.511640: I tensorflow/core/grappler/optimizers/custom_graph_optimizer_registry.cc:112] Plugin optimizer for device_type GPU is enabled.\n"
     ]
    },
    {
     "name": "stdout",
     "output_type": "stream",
     "text": [
      "645/645 [==============================] - 3s 5ms/step - loss: 7.1313 - mae: 2.1219\n",
      "Epoch 2/56\n",
      "645/645 [==============================] - 3s 5ms/step - loss: 6.3153 - mae: 1.9570\n",
      "Epoch 3/56\n",
      "645/645 [==============================] - 3s 5ms/step - loss: 5.7239 - mae: 1.8564\n",
      "Epoch 4/56\n",
      "645/645 [==============================] - 3s 5ms/step - loss: 4.9918 - mae: 1.7196\n",
      "Epoch 5/56\n",
      "645/645 [==============================] - 3s 5ms/step - loss: 4.1657 - mae: 1.5406\n",
      "Epoch 6/56\n",
      "645/645 [==============================] - 3s 5ms/step - loss: 3.3696 - mae: 1.3625\n",
      "Epoch 7/56\n",
      "645/645 [==============================] - 3s 5ms/step - loss: 2.7008 - mae: 1.2046\n",
      "Epoch 8/56\n",
      "645/645 [==============================] - 3s 5ms/step - loss: 2.2284 - mae: 1.0924\n",
      "Epoch 9/56\n",
      "645/645 [==============================] - 3s 5ms/step - loss: 1.9982 - mae: 1.0316\n",
      "Epoch 10/56\n",
      "645/645 [==============================] - 3s 5ms/step - loss: 1.8216 - mae: 0.9827\n",
      "Epoch 11/56\n",
      "645/645 [==============================] - 3s 5ms/step - loss: 1.7063 - mae: 0.9553\n",
      "Epoch 12/56\n",
      "645/645 [==============================] - 3s 5ms/step - loss: 1.6357 - mae: 0.9377\n",
      "Epoch 13/56\n",
      "645/645 [==============================] - 3s 5ms/step - loss: 1.5969 - mae: 0.9187\n",
      "Epoch 14/56\n",
      "645/645 [==============================] - 3s 5ms/step - loss: 1.5734 - mae: 0.9062\n",
      "Epoch 15/56\n",
      "645/645 [==============================] - 3s 5ms/step - loss: 1.5449 - mae: 0.8969\n",
      "Epoch 16/56\n",
      "645/645 [==============================] - 4s 6ms/step - loss: 1.5117 - mae: 0.8873\n",
      "Epoch 17/56\n",
      "645/645 [==============================] - 4s 6ms/step - loss: 1.4975 - mae: 0.8766\n",
      "Epoch 18/56\n",
      "645/645 [==============================] - 4s 6ms/step - loss: 1.4802 - mae: 0.8735\n",
      "Epoch 19/56\n",
      "645/645 [==============================] - 3s 5ms/step - loss: 1.4613 - mae: 0.8615\n",
      "Epoch 20/56\n",
      "645/645 [==============================] - 3s 5ms/step - loss: 1.4509 - mae: 0.8587\n",
      "Epoch 21/56\n",
      "645/645 [==============================] - 3s 5ms/step - loss: 1.4256 - mae: 0.8519\n",
      "Epoch 22/56\n",
      "645/645 [==============================] - 3s 5ms/step - loss: 1.4234 - mae: 0.8464\n",
      "Epoch 23/56\n",
      "645/645 [==============================] - 3s 5ms/step - loss: 1.3990 - mae: 0.8429\n",
      "Epoch 24/56\n",
      "645/645 [==============================] - 3s 5ms/step - loss: 1.3844 - mae: 0.8377\n",
      "Epoch 25/56\n",
      "645/645 [==============================] - 3s 5ms/step - loss: 1.3605 - mae: 0.8279\n",
      "Epoch 26/56\n",
      "645/645 [==============================] - 3s 5ms/step - loss: 1.3561 - mae: 0.8203\n",
      "Epoch 27/56\n",
      "645/645 [==============================] - 3s 5ms/step - loss: 1.3278 - mae: 0.8142\n",
      "Epoch 28/56\n",
      "645/645 [==============================] - 3s 5ms/step - loss: 1.3199 - mae: 0.8101\n",
      "Epoch 29/56\n",
      "645/645 [==============================] - 3s 5ms/step - loss: 1.3035 - mae: 0.8044\n",
      "Epoch 30/56\n",
      "645/645 [==============================] - 3s 5ms/step - loss: 1.2701 - mae: 0.7898\n",
      "Epoch 31/56\n",
      "645/645 [==============================] - 3s 5ms/step - loss: 1.2509 - mae: 0.7863\n",
      "Epoch 32/56\n",
      "645/645 [==============================] - 3s 5ms/step - loss: 1.2328 - mae: 0.7796\n",
      "Epoch 33/56\n",
      "645/645 [==============================] - 3s 5ms/step - loss: 1.2041 - mae: 0.7661\n",
      "Epoch 34/56\n",
      "645/645 [==============================] - 3s 5ms/step - loss: 1.1971 - mae: 0.7597\n",
      "Epoch 35/56\n",
      "645/645 [==============================] - 3s 5ms/step - loss: 1.1785 - mae: 0.7520\n",
      "Epoch 36/56\n",
      "645/645 [==============================] - 3s 5ms/step - loss: 1.1483 - mae: 0.7406\n",
      "Epoch 37/56\n",
      "645/645 [==============================] - 3s 5ms/step - loss: 1.1271 - mae: 0.7326\n",
      "Epoch 38/56\n",
      "645/645 [==============================] - 3s 5ms/step - loss: 1.1170 - mae: 0.7292\n",
      "Epoch 39/56\n",
      "645/645 [==============================] - 3s 5ms/step - loss: 1.0833 - mae: 0.7120\n",
      "Epoch 40/56\n",
      "645/645 [==============================] - 3s 5ms/step - loss: 1.0737 - mae: 0.7106\n",
      "Epoch 41/56\n",
      "645/645 [==============================] - 3s 5ms/step - loss: 1.0393 - mae: 0.7012\n",
      "Epoch 42/56\n",
      "645/645 [==============================] - 3s 5ms/step - loss: 1.0140 - mae: 0.6922\n",
      "Epoch 43/56\n",
      "645/645 [==============================] - 3s 5ms/step - loss: 1.0093 - mae: 0.6828\n",
      "Epoch 44/56\n",
      "645/645 [==============================] - 3s 5ms/step - loss: 0.9895 - mae: 0.6741\n",
      "Epoch 45/56\n",
      "645/645 [==============================] - 3s 5ms/step - loss: 0.9616 - mae: 0.6638\n",
      "Epoch 46/56\n",
      "645/645 [==============================] - 3s 5ms/step - loss: 0.9343 - mae: 0.6522\n",
      "Epoch 47/56\n",
      "645/645 [==============================] - 3s 5ms/step - loss: 0.9126 - mae: 0.6422\n",
      "Epoch 48/56\n",
      "645/645 [==============================] - 3s 5ms/step - loss: 0.8994 - mae: 0.6361\n",
      "Epoch 49/56\n",
      "645/645 [==============================] - 3s 5ms/step - loss: 0.8893 - mae: 0.6295\n",
      "Epoch 50/56\n",
      "645/645 [==============================] - 3s 5ms/step - loss: 0.8595 - mae: 0.6145\n",
      "Epoch 51/56\n",
      "645/645 [==============================] - 3s 5ms/step - loss: 0.8365 - mae: 0.6174\n",
      "Epoch 52/56\n",
      "645/645 [==============================] - 3s 5ms/step - loss: 0.8263 - mae: 0.6054\n",
      "Epoch 53/56\n",
      "645/645 [==============================] - 3s 5ms/step - loss: 0.8004 - mae: 0.5969\n",
      "Epoch 54/56\n",
      "645/645 [==============================] - 3s 5ms/step - loss: 0.7839 - mae: 0.5935\n",
      "Epoch 55/56\n",
      "645/645 [==============================] - 3s 5ms/step - loss: 0.7687 - mae: 0.5844\n",
      "Epoch 56/56\n",
      "645/645 [==============================] - 3s 5ms/step - loss: 0.7595 - mae: 0.5804\n"
     ]
    },
    {
     "data": {
      "text/plain": [
       "<tensorflow.python.keras.callbacks.History at 0x2cfeba250>"
      ]
     },
     "execution_count": 176,
     "metadata": {},
     "output_type": "execute_result"
    }
   ],
   "source": [
    "hot_benchmark = build_dnn_hot([54])\n",
    "hot_benchmark.fit([x_train_hot, xdrug_train_hot], y_train_hot, epochs=56, batch_size=4)"
   ]
  },
  {
   "cell_type": "markdown",
   "id": "f83cc00d-9c18-400c-890e-eb79b9df86da",
   "metadata": {
    "tags": []
   },
   "source": [
    "# Model seleciton\n",
    "Uses and tests functions from my model_selection module "
   ]
  },
  {
   "cell_type": "code",
   "execution_count": 191,
   "id": "7be3e059-991f-450f-baa2-9a617e8db7d7",
   "metadata": {},
   "outputs": [
    {
     "name": "stdout",
     "output_type": "stream",
     "text": [
      "0.0\n"
     ]
    },
    {
     "name": "stderr",
     "output_type": "stream",
     "text": [
      "2022-07-26 10:30:35.549952: I tensorflow/core/grappler/optimizers/custom_graph_optimizer_registry.cc:112] Plugin optimizer for device_type GPU is enabled.\n",
      "2022-07-26 10:30:37.747707: I tensorflow/core/grappler/optimizers/custom_graph_optimizer_registry.cc:112] Plugin optimizer for device_type GPU is enabled.\n"
     ]
    },
    {
     "name": "stdout",
     "output_type": "stream",
     "text": [
      "0.3333333333333333\n"
     ]
    },
    {
     "name": "stderr",
     "output_type": "stream",
     "text": [
      "2022-07-26 10:33:36.193869: I tensorflow/core/grappler/optimizers/custom_graph_optimizer_registry.cc:112] Plugin optimizer for device_type GPU is enabled.\n",
      "2022-07-26 10:33:38.318327: I tensorflow/core/grappler/optimizers/custom_graph_optimizer_registry.cc:112] Plugin optimizer for device_type GPU is enabled.\n"
     ]
    },
    {
     "name": "stdout",
     "output_type": "stream",
     "text": [
      "0.6666666666666666\n"
     ]
    },
    {
     "name": "stderr",
     "output_type": "stream",
     "text": [
      "2022-07-26 10:36:37.167244: I tensorflow/core/grappler/optimizers/custom_graph_optimizer_registry.cc:112] Plugin optimizer for device_type GPU is enabled.\n",
      "2022-07-26 10:36:39.638985: I tensorflow/core/grappler/optimizers/custom_graph_optimizer_registry.cc:112] Plugin optimizer for device_type GPU is enabled.\n"
     ]
    }
   ],
   "source": [
    "epochs = 75\n",
    "loss, val_loss, *_ = ms_nb.run_cv(build_test_dnn, \n",
    "                                  [x_train, xdrug_train],\n",
    "                                  y_train,\n",
    "                                  [64],\n",
    "                                  batch_size=4,\n",
    "                                  k=3,\n",
    "                                 epochs=epochs)"
   ]
  },
  {
   "cell_type": "code",
   "execution_count": 18,
   "id": "b7560507-ad77-420b-becd-d59584332a4d",
   "metadata": {},
   "outputs": [
    {
     "name": "stdout",
     "output_type": "stream",
     "text": [
      "(2.7013458410898843, 0.049, 47)\n"
     ]
    },
    {
     "data": {
      "image/png": "[encoded data removed]",
      "text/plain": [
       "<Figure size 432x288 with 1 Axes>"
      ]
     },
     "metadata": {
      "needs_background": "light"
     },
     "output_type": "display_data"
    }
   ],
   "source": [
    "ms_nb.plot_cv(loss, val_loss, epochs=epochs)"
   ]
  },
  {
   "cell_type": "markdown",
   "id": "9b7bf0a9-ebe0-44ef-ad41-8346a6430ed4",
   "metadata": {
    "tags": []
   },
   "source": [
    "## Hyper param opt\n",
    "using run_random_hp_opt function"
   ]
  },
  {
   "cell_type": "code",
   "execution_count": 139,
   "id": "d210c9a8-9cc2-44ea-aa44-a0ad3e55b6a2",
   "metadata": {},
   "outputs": [],
   "source": [
    "def build_test_dnn(hps):\n",
    "    '''Build neural network with keras\n",
    "    \n",
    "    Input hps as a dict\n",
    "    '''\n",
    "    num_hps = 1\n",
    "    #check number of hyper prams in arg and needed matches\n",
    "    assert len(hps) == num_hps \n",
    "    num_uni = hps['num_uni']\n",
    "    \n",
    "    phos_input = layers.Input(shape=x_train.shape[1])\n",
    "    x = layers.Dense(num_uni, activation='relu')(phos_input)\n",
    "    drug_input = layers.Input(shape = (x_drug.shape[1]))\n",
    "    concatenated = layers.concatenate([x, drug_input])\n",
    "    hidd = layers.Dense(num_uni // 2, activation='relu')(concatenated)\n",
    "    output_tensor = layers.Dense(1)(hidd)\n",
    "    model = tf.keras.models.Model([phos_input,drug_input], output_tensor)\n",
    "    model.compile(\n",
    "        optimizer='rmsprop',\n",
    "        loss=tf.keras.metrics.mean_squared_error,\n",
    "        metrics=['mae'])\n",
    "    return model"
   ]
  },
  {
   "cell_type": "code",
   "execution_count": 169,
   "id": "7a7a4dbf-64fc-4dd2-a858-a4929e2443ae",
   "metadata": {
    "tags": []
   },
   "outputs": [
    {
     "name": "stdout",
     "output_type": "stream",
     "text": [
      "0.0\n"
     ]
    },
    {
     "name": "stderr",
     "output_type": "stream",
     "text": [
      "2022-07-25 16:00:54.983970: I tensorflow/core/grappler/optimizers/custom_graph_optimizer_registry.cc:112] Plugin optimizer for device_type GPU is enabled.\n",
      "2022-07-25 16:00:57.271794: I tensorflow/core/grappler/optimizers/custom_graph_optimizer_registry.cc:112] Plugin optimizer for device_type GPU is enabled.\n",
      "2022-07-25 16:01:20.704941: I tensorflow/core/grappler/optimizers/custom_graph_optimizer_registry.cc:112] Plugin optimizer for device_type GPU is enabled.\n",
      "2022-07-25 16:01:22.981534: I tensorflow/core/grappler/optimizers/custom_graph_optimizer_registry.cc:112] Plugin optimizer for device_type GPU is enabled.\n",
      "2022-07-25 16:01:46.798203: I tensorflow/core/grappler/optimizers/custom_graph_optimizer_registry.cc:112] Plugin optimizer for device_type GPU is enabled.\n",
      "2022-07-25 16:01:49.099135: I tensorflow/core/grappler/optimizers/custom_graph_optimizer_registry.cc:112] Plugin optimizer for device_type GPU is enabled.\n"
     ]
    },
    {
     "name": "stdout",
     "output_type": "stream",
     "text": [
      "0.3333333333333333\n"
     ]
    },
    {
     "name": "stderr",
     "output_type": "stream",
     "text": [
      "2022-07-25 16:02:13.008358: I tensorflow/core/grappler/optimizers/custom_graph_optimizer_registry.cc:112] Plugin optimizer for device_type GPU is enabled.\n",
      "2022-07-25 16:02:15.115236: I tensorflow/core/grappler/optimizers/custom_graph_optimizer_registry.cc:112] Plugin optimizer for device_type GPU is enabled.\n",
      "2022-07-25 16:02:36.914097: I tensorflow/core/grappler/optimizers/custom_graph_optimizer_registry.cc:112] Plugin optimizer for device_type GPU is enabled.\n",
      "2022-07-25 16:02:39.025725: I tensorflow/core/grappler/optimizers/custom_graph_optimizer_registry.cc:112] Plugin optimizer for device_type GPU is enabled.\n",
      "2022-07-25 16:03:00.588738: I tensorflow/core/grappler/optimizers/custom_graph_optimizer_registry.cc:112] Plugin optimizer for device_type GPU is enabled.\n",
      "2022-07-25 16:03:02.710154: I tensorflow/core/grappler/optimizers/custom_graph_optimizer_registry.cc:112] Plugin optimizer for device_type GPU is enabled.\n"
     ]
    },
    {
     "name": "stdout",
     "output_type": "stream",
     "text": [
      "0.6666666666666666\n"
     ]
    },
    {
     "name": "stderr",
     "output_type": "stream",
     "text": [
      "2022-07-25 16:03:24.271819: I tensorflow/core/grappler/optimizers/custom_graph_optimizer_registry.cc:112] Plugin optimizer for device_type GPU is enabled.\n",
      "2022-07-25 16:03:26.408584: I tensorflow/core/grappler/optimizers/custom_graph_optimizer_registry.cc:112] Plugin optimizer for device_type GPU is enabled.\n",
      "2022-07-25 16:03:48.463042: I tensorflow/core/grappler/optimizers/custom_graph_optimizer_registry.cc:112] Plugin optimizer for device_type GPU is enabled.\n",
      "2022-07-25 16:03:50.643115: I tensorflow/core/grappler/optimizers/custom_graph_optimizer_registry.cc:112] Plugin optimizer for device_type GPU is enabled.\n",
      "2022-07-25 16:04:12.726638: I tensorflow/core/grappler/optimizers/custom_graph_optimizer_registry.cc:112] Plugin optimizer for device_type GPU is enabled.\n",
      "2022-07-25 16:04:14.959838: I tensorflow/core/grappler/optimizers/custom_graph_optimizer_registry.cc:112] Plugin optimizer for device_type GPU is enabled.\n"
     ]
    }
   ],
   "source": [
    "num_trails = 3\n",
    "epochs = 10\n",
    "hp_grid = {'num_uni': [32, 64, 128]}\n",
    "\n",
    "opt_r, *_ = ms_nb.run_random_hp_opt(ParameterGrid(hp_grid),\n",
    "                                    [x_train, xdrug_train],\n",
    "                                    y_train,\n",
    "                                   num_trails,\n",
    "                                   build_test_dnn,\n",
    "                                   epochs,\n",
    "                                   batch_size=4)"
   ]
  },
  {
   "cell_type": "code",
   "execution_count": 183,
   "id": "f5d918fa-40ff-4413-a379-2a12a7c6365a",
   "metadata": {},
   "outputs": [
    {
     "data": {
      "text/plain": [
       "tr(rt=1, ft=2, xy=3)"
      ]
     },
     "execution_count": 183,
     "metadata": {},
     "output_type": "execute_result"
    }
   ],
   "source": [
    "from collections import namedtuple\n",
    "Results = namedtuple('tr',['rt', 'ft', 'xy' ])\n",
    "\n",
    "r = Results(1,2,3)\n",
    "r"
   ]
  },
  {
   "cell_type": "code",
   "execution_count": 181,
   "id": "979f0613-5b8d-4bd2-9ef4-1ab264d305b4",
   "metadata": {},
   "outputs": [
    {
     "data": {
      "text/plain": [
       "tr(rt=1, ft=2)"
      ]
     },
     "execution_count": 181,
     "metadata": {},
     "output_type": "execute_result"
    }
   ],
   "source": [
    "r"
   ]
  },
  {
   "cell_type": "code",
   "execution_count": 170,
   "id": "0e06ed48-06b1-44d8-9bcd-f3dc90340e6f",
   "metadata": {},
   "outputs": [
    {
     "data": {
      "text/html": [
       "<div>\n",
       "<style scoped>\n",
       "    .dataframe tbody tr th:only-of-type {\n",
       "        vertical-align: middle;\n",
       "    }\n",
       "\n",
       "    .dataframe tbody tr th {\n",
       "        vertical-align: top;\n",
       "    }\n",
       "\n",
       "    .dataframe thead th {\n",
       "        text-align: right;\n",
       "    }\n",
       "</style>\n",
       "<table border=\"1\" class=\"dataframe\">\n",
       "  <thead>\n",
       "    <tr style=\"text-align: right;\">\n",
       "      <th></th>\n",
       "      <th>Smallest val loss</th>\n",
       "      <th>SD</th>\n",
       "      <th>Epoch</th>\n",
       "      <th>HPs</th>\n",
       "    </tr>\n",
       "  </thead>\n",
       "  <tbody>\n",
       "    <tr>\n",
       "      <th>0</th>\n",
       "      <td>3.172888</td>\n",
       "      <td>0.131</td>\n",
       "      <td>9</td>\n",
       "      <td>{'num_uni': 128}</td>\n",
       "    </tr>\n",
       "    <tr>\n",
       "      <th>1</th>\n",
       "      <td>5.726405</td>\n",
       "      <td>0.825</td>\n",
       "      <td>9</td>\n",
       "      <td>{'num_uni': 32}</td>\n",
       "    </tr>\n",
       "    <tr>\n",
       "      <th>2</th>\n",
       "      <td>5.025207</td>\n",
       "      <td>0.763</td>\n",
       "      <td>9</td>\n",
       "      <td>{'num_uni': 64}</td>\n",
       "    </tr>\n",
       "  </tbody>\n",
       "</table>\n",
       "</div>"
      ],
      "text/plain": [
       "   Smallest val loss     SD  Epoch               HPs\n",
       "0           3.172888  0.131      9  {'num_uni': 128}\n",
       "1           5.726405  0.825      9   {'num_uni': 32}\n",
       "2           5.025207  0.763      9   {'num_uni': 64}"
      ]
     },
     "execution_count": 170,
     "metadata": {},
     "output_type": "execute_result"
    }
   ],
   "source": [
    "opt_r"
   ]
  },
  {
   "cell_type": "markdown",
   "id": "c98c1084-a68e-4767-bd73-2b835b4a77c9",
   "metadata": {
    "jp-MarkdownHeadingCollapsed": true,
    "tags": []
   },
   "source": [
    "# Model testing\n",
    "Uses and tests functions from my testing module "
   ]
  },
  {
   "cell_type": "code",
   "execution_count": 11,
   "id": "f14bf950-861f-419f-9f7a-011e7ba337fc",
   "metadata": {
    "tags": []
   },
   "outputs": [
    {
     "name": "stdout",
     "output_type": "stream",
     "text": [
      "Metal device set to: Apple M1 Pro\n"
     ]
    },
    {
     "name": "stderr",
     "output_type": "stream",
     "text": [
      "2022-07-21 14:30:13.506872: I tensorflow/core/common_runtime/pluggable_device/pluggable_device_factory.cc:305] Could not identify NUMA node of platform GPU ID 0, defaulting to 0. Your kernel may not have been built with NUMA support.\n",
      "2022-07-21 14:30:13.507067: I tensorflow/core/common_runtime/pluggable_device/pluggable_device_factory.cc:271] Created TensorFlow device (/job:localhost/replica:0/task:0/device:GPU:0 with 0 MB memory) -> physical PluggableDevice (device: 0, name: METAL, pci bus id: <undefined>)\n",
      "2022-07-21 14:30:14.091347: I tensorflow/compiler/mlir/mlir_graph_optimization_pass.cc:176] None of the MLIR Optimization Passes are enabled (registered 2)\n",
      "2022-07-21 14:30:14.093747: W tensorflow/core/platform/profile_utils/cpu_utils.cc:128] Failed to get CPU frequency: 0 Hz\n",
      "2022-07-21 14:30:14.233485: I tensorflow/core/grappler/optimizers/custom_graph_optimizer_registry.cc:112] Plugin optimizer for device_type GPU is enabled.\n"
     ]
    },
    {
     "name": "stdout",
     "output_type": "stream",
     "text": [
      "Epoch 1/5\n",
      "2580/2580 [==============================] - 14s 6ms/step - loss: 7.0393 - mae: 2.0878\n",
      "Epoch 2/5\n",
      "2580/2580 [==============================] - 14s 6ms/step - loss: 6.7872 - mae: 2.0509\n",
      "Epoch 3/5\n",
      "2580/2580 [==============================] - 15s 6ms/step - loss: 6.7784 - mae: 2.0451\n",
      "Epoch 4/5\n",
      "2580/2580 [==============================] - 14s 6ms/step - loss: 6.6767 - mae: 2.0351\n",
      "Epoch 5/5\n",
      "2580/2580 [==============================] - 15s 6ms/step - loss: 6.6502 - mae: 2.0297\n"
     ]
    },
    {
     "data": {
      "text/plain": [
       "<tensorflow.python.keras.callbacks.History at 0x294c3d670>"
      ]
     },
     "execution_count": 11,
     "metadata": {},
     "output_type": "execute_result"
    }
   ],
   "source": [
    "dnn_test = build_test_dnn([5])\n",
    "dnn_test.fit([x_train, xdrug_train], y_train, epochs=5, batch_size=1)"
   ]
  },
  {
   "cell_type": "code",
   "execution_count": 73,
   "id": "296f77b9-a5c9-4a9a-a07f-8435209b1e3f",
   "metadata": {},
   "outputs": [
    {
     "data": {
      "text/plain": [
       "-9.7939622449161"
      ]
     },
     "execution_count": 73,
     "metadata": {},
     "output_type": "execute_result"
    },
    {
     "data": {
      "image/png": "[encoded data removed]",
      "text/plain": [
       "<Figure size 432x288 with 1 Axes>"
      ]
     },
     "metadata": {
      "needs_background": "light"
     },
     "output_type": "display_data"
    }
   ],
   "source": [
    "dnn_pre = dnn_test.predict([x_test, xdrug_test])\n",
    "dnn_pre = dnn_pre.reshape(len(dnn_pre))\n",
    "plt.scatter(dnn_pre, y_test)\n",
    "r2_score(dnn_pre, y_test)"
   ]
  },
  {
   "cell_type": "code",
   "execution_count": 74,
   "id": "1b1ba5e2-a345-4458-b9a8-0d9b917eb5b6",
   "metadata": {},
   "outputs": [
    {
     "data": {
      "image/png": "[encoded data removed]",
      "text/plain": [
       "<Figure size 576x360 with 2 Axes>"
      ]
     },
     "metadata": {
      "needs_background": "light"
     },
     "output_type": "display_data"
    },
    {
     "data": {
      "text/plain": [
       "-9.7939622449161"
      ]
     },
     "execution_count": 74,
     "metadata": {},
     "output_type": "execute_result"
    }
   ],
   "source": [
    "fig, ax = plt.subplots(figsize=(8, 5))\n",
    "pcm = ax.hist2d(dnn_pre.reshape(len(dnn_pre)), y_test, bins=75, cmap=plt.cm.jet)\n",
    "fig.colorbar(pcm[3])\n",
    "plt.show()\n",
    "r2_score(dnn_pre, y_test)"
   ]
  },
  {
   "cell_type": "code",
   "execution_count": 82,
   "id": "d495aa3a-ffb1-4263-aed4-26b65c389114",
   "metadata": {},
   "outputs": [],
   "source": [
    "cl_results = t_nb.sort_results(dnn_pre, y_test, all_cls_drugs[test_inds], centered=0)\n",
    "drug_results = t_nb.sort_results(dnn_pre, y_test, all_cls_drugs[test_inds], centered=1)"
   ]
  },
  {
   "cell_type": "markdown",
   "id": "0548bd6b-eb2a-4801-80f9-64dcaa10e310",
   "metadata": {
    "tags": []
   },
   "source": [
    "## Benchmark models testing"
   ]
  },
  {
   "cell_type": "code",
   "execution_count": 120,
   "id": "90d541af-407e-4663-a796-c9e59ace7001",
   "metadata": {},
   "outputs": [
    {
     "data": {
      "image/png": "[encoded data removed]",
      "text/plain": [
       "<Figure size 576x360 with 2 Axes>"
      ]
     },
     "metadata": {
      "needs_background": "light"
     },
     "output_type": "display_data"
    },
    {
     "data": {
      "text/plain": [
       "0.6207346568169885"
      ]
     },
     "execution_count": 120,
     "metadata": {},
     "output_type": "execute_result"
    }
   ],
   "source": [
    "#mean model \n",
    "fig, ax = plt.subplots(figsize=(8, 5))\n",
    "pcm = ax.hist2d(mm_pre, y_test, bins=75, cmap=plt.cm.jet)\n",
    "fig.colorbar(pcm[3])\n",
    "plt.show()\n",
    "r2_score(mm_pre, y_test)"
   ]
  },
  {
   "cell_type": "code",
   "execution_count": 118,
   "id": "8614f11d-161e-4738-b25c-4604f0ca43bf",
   "metadata": {
    "tags": []
   },
   "outputs": [],
   "source": [
    "mm_pre = np.array([mean_model[d] for d in test_drugs])\n",
    "cl_results_mm = t_nb.sort_results(mm_pre, y_test, all_cls_drugs[test_inds], centered=0)\n",
    "drug_results_mm = t_nb.sort_results(mm_pre, y_test, all_cls_drugs[test_inds], centered=1)"
   ]
  },
  {
   "cell_type": "code",
   "execution_count": 177,
   "id": "71779008-08bf-4406-8838-3ffdec76cd40",
   "metadata": {},
   "outputs": [
    {
     "name": "stderr",
     "output_type": "stream",
     "text": [
      "2022-07-21 18:03:53.600574: I tensorflow/core/grappler/optimizers/custom_graph_optimizer_registry.cc:112] Plugin optimizer for device_type GPU is enabled.\n"
     ]
    },
    {
     "data": {
      "image/png": "[encoded data removed]",
      "text/plain": [
       "<Figure size 576x360 with 2 Axes>"
      ]
     },
     "metadata": {
      "needs_background": "light"
     },
     "output_type": "display_data"
    },
    {
     "data": {
      "text/plain": [
       "0.6914179934031619"
      ]
     },
     "execution_count": 177,
     "metadata": {},
     "output_type": "execute_result"
    }
   ],
   "source": [
    "#one hot encoded model\n",
    "hot_pre = hot_benchmark.predict([x_test_hot, xdrug_test_hot])\n",
    "hot_pre = hot_pre.reshape(len(hot_pre))\n",
    "\n",
    "fig, ax = plt.subplots(figsize=(8, 5))\n",
    "pcm = ax.hist2d(hot_pre, y_test_hot, bins=75, cmap=plt.cm.jet)\n",
    "fig.colorbar(pcm[3])\n",
    "plt.show()\n",
    "r2_score(hot_pre, y_test_hot)"
   ]
  },
  {
   "cell_type": "markdown",
   "id": "4ee05e33-285e-457e-8744-309b093054fe",
   "metadata": {
    "jp-MarkdownHeadingCollapsed": true,
    "tags": []
   },
   "source": [
    "## Compare mean model with real model"
   ]
  },
  {
   "cell_type": "code",
   "execution_count": 127,
   "id": "c9cbba06-c0d4-45f1-a161-63bdcaf4b06b",
   "metadata": {},
   "outputs": [],
   "source": [
    "def find_centric_statstic(result, statstic):\n",
    "    '''for drug or cell line centric results finds a test statstic\n",
    "    \n",
    "    '''\n",
    "    statstic_results = {}\n",
    "    for key in result.keys():\n",
    "        pre = result[key][0]\n",
    "        true = result[key][1]\n",
    "        statstic_results[key] = statstic(true, pre)\n",
    "    return statstic_results"
   ]
  },
  {
   "cell_type": "code",
   "execution_count": 138,
   "id": "0439eb1e-d9fb-4deb-9cfd-50a15aeeb011",
   "metadata": {},
   "outputs": [],
   "source": [
    "cl_r2 = find_centric_statstic(cl_results, r2_score)\n",
    "cl_r2_mm = find_centric_statstic(cl_results_mm, r2_score)\n",
    "\n",
    "drug_r2 = find_centric_statstic(drug_results, r2_score)\n",
    "drug_r2_mm = find_centric_statstic(drug_results_mm, r2_score)"
   ]
  },
  {
   "cell_type": "code",
   "execution_count": 137,
   "id": "2bde329f-110d-47e3-9c57-fadf9631c454",
   "metadata": {},
   "outputs": [
    {
     "data": {
      "image/png": "[encoded data removed]",
      "text/plain": [
       "<Figure size 432x288 with 1 Axes>"
      ]
     },
     "metadata": {
      "needs_background": "light"
     },
     "output_type": "display_data"
    },
    {
     "data": {
      "text/plain": [
       "(array([ 3.,  0.,  4.,  1.,  3.,  4.,  7.,  3., 10.,  7.]),\n",
       " array([0.38999431, 0.43751477, 0.48503522, 0.53255567, 0.58007613,\n",
       "        0.62759658, 0.67511703, 0.72263749, 0.77015794, 0.81767839,\n",
       "        0.86519884]),\n",
       " <BarContainer object of 10 artists>)"
      ]
     },
     "execution_count": 137,
     "metadata": {},
     "output_type": "execute_result"
    },
    {
     "data": {
      "image/png": "[encoded data removed]",
      "text/plain": [
       "<Figure size 432x288 with 1 Axes>"
      ]
     },
     "metadata": {
      "needs_background": "light"
     },
     "output_type": "display_data"
    }
   ],
   "source": [
    "plt.hist(cl_r2.values())\n",
    "plt.show()\n",
    "plt.hist(cl_r2_mm.values())"
   ]
  },
  {
   "cell_type": "code",
   "execution_count": 139,
   "id": "e7a44bef-ae6f-4073-b863-0565510297f9",
   "metadata": {},
   "outputs": [
    {
     "data": {
      "image/png": "[encoded data removed]",
      "text/plain": [
       "<Figure size 432x288 with 1 Axes>"
      ]
     },
     "metadata": {
      "needs_background": "light"
     },
     "output_type": "display_data"
    },
    {
     "data": {
      "text/plain": [
       "(array([  1.,   1.,   0.,   0.,   2.,   2.,   5.,   6.,  41., 287.]),\n",
       " array([-1.54024927e-01, -1.38622434e-01, -1.23219942e-01, -1.07817449e-01,\n",
       "        -9.24149561e-02, -7.70124635e-02, -6.16099708e-02, -4.62074781e-02,\n",
       "        -3.08049854e-02, -1.54024927e-02,  2.22044605e-16]),\n",
       " <BarContainer object of 10 artists>)"
      ]
     },
     "execution_count": 139,
     "metadata": {},
     "output_type": "execute_result"
    },
    {
     "data": {
      "image/png": "[encoded data removed]",
      "text/plain": [
       "<Figure size 432x288 with 1 Axes>"
      ]
     },
     "metadata": {
      "needs_background": "light"
     },
     "output_type": "display_data"
    }
   ],
   "source": [
    "plt.hist(drug_r2.values())\n",
    "plt.show()\n",
    "plt.hist(drug_r2_mm.values())"
   ]
  },
  {
   "cell_type": "code",
   "execution_count": null,
   "id": "c8dfe9bc-966c-4b43-be09-3a076fed67d0",
   "metadata": {},
   "outputs": [],
   "source": []
  }
 ],
 "metadata": {
  "kernelspec": {
   "display_name": "tfGPU",
   "language": "python",
   "name": "tensorflow"
  },
  "language_info": {
   "codemirror_mode": {
    "name": "ipython",
    "version": 3
   },
   "file_extension": ".py",
   "mimetype": "text/x-python",
   "name": "python",
   "nbconvert_exporter": "python",
   "pygments_lexer": "ipython3",
   "version": "3.9.7"
  }
 },
 "nbformat": 4,
 "nbformat_minor": 5
}
